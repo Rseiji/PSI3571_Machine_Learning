{
  "nbformat": 4,
  "nbformat_minor": 0,
  "metadata": {
    "kernelspec": {
      "display_name": "Python 3",
      "language": "python",
      "name": "python3"
    },
    "language_info": {
      "codemirror_mode": {
        "name": "ipython",
        "version": 3
      },
      "file_extension": ".py",
      "mimetype": "text/x-python",
      "name": "python",
      "nbconvert_exporter": "python",
      "pygments_lexer": "ipython3",
      "version": "3.6.9"
    },
    "colab": {
      "name": "E-commerce_Regressor_Analise.ipynb",
      "provenance": []
    }
  },
  "cells": [
    {
      "cell_type": "markdown",
      "metadata": {
        "id": "JF4lyg1KPes5",
        "colab_type": "text"
      },
      "source": [
        "# Regressor - Ecommerce"
      ]
    },
    {
      "cell_type": "markdown",
      "metadata": {
        "id": "IxkzroGiPetA",
        "colab_type": "text"
      },
      "source": [
        "## Data Input"
      ]
    },
    {
      "cell_type": "code",
      "metadata": {
        "id": "SKOjIoETPetE",
        "colab_type": "code",
        "colab": {}
      },
      "source": [
        "import pandas as pd"
      ],
      "execution_count": 1,
      "outputs": []
    },
    {
      "cell_type": "code",
      "metadata": {
        "id": "MaRhpsozQQCm",
        "colab_type": "code",
        "colab": {
          "base_uri": "https://localhost:8080/",
          "height": 35
        },
        "outputId": "68e60429-b428-4a21-c25a-6529b7e24a55"
      },
      "source": [
        "from google.colab import drive\n",
        "drive.mount('/content/drive')"
      ],
      "execution_count": 2,
      "outputs": [
        {
          "output_type": "stream",
          "text": [
            "Drive already mounted at /content/drive; to attempt to forcibly remount, call drive.mount(\"/content/drive\", force_remount=True).\n"
          ],
          "name": "stdout"
        }
      ]
    },
    {
      "cell_type": "code",
      "metadata": {
        "id": "fIkEnxPSPetS",
        "colab_type": "code",
        "colab": {}
      },
      "source": [
        "df_customers      = pd.read_csv('drive/My Drive/dataset/olist_customers_dataset.csv')\n",
        "df_geolocation    = pd.read_csv('drive/My Drive/dataset/olist_geolocation_dataset.csv')\n",
        "df_order_item     = pd.read_csv('drive/My Drive/dataset/olist_order_items_dataset.csv')\n",
        "df_order_payments = pd.read_csv('drive/My Drive/dataset/olist_order_payments_dataset.csv')\n",
        "df_order_reviews  = pd.read_csv('drive/My Drive/dataset/olist_order_reviews_dataset.csv')\n",
        "df_orders         = pd.read_csv('drive/My Drive/dataset/olist_orders_dataset.csv')\n",
        "df_products       = pd.read_csv('drive/My Drive/dataset/olist_products_dataset.csv')\n",
        "df_sellers        = pd.read_csv('drive/My Drive/dataset/olist_sellers_dataset.csv')"
      ],
      "execution_count": 3,
      "outputs": []
    },
    {
      "cell_type": "markdown",
      "metadata": {
        "id": "YsTxKGnwPetY",
        "colab_type": "text"
      },
      "source": [
        "## Data Study"
      ]
    },
    {
      "cell_type": "code",
      "metadata": {
        "id": "Fr_083xzPetZ",
        "colab_type": "code",
        "colab": {
          "base_uri": "https://localhost:8080/",
          "height": 191
        },
        "outputId": "020cb50b-6b15-4ab3-85e3-b0ced390d51b"
      },
      "source": [
        "df_customers.head()"
      ],
      "execution_count": 4,
      "outputs": [
        {
          "output_type": "execute_result",
          "data": {
            "text/html": [
              "<div>\n",
              "<style scoped>\n",
              "    .dataframe tbody tr th:only-of-type {\n",
              "        vertical-align: middle;\n",
              "    }\n",
              "\n",
              "    .dataframe tbody tr th {\n",
              "        vertical-align: top;\n",
              "    }\n",
              "\n",
              "    .dataframe thead th {\n",
              "        text-align: right;\n",
              "    }\n",
              "</style>\n",
              "<table border=\"1\" class=\"dataframe\">\n",
              "  <thead>\n",
              "    <tr style=\"text-align: right;\">\n",
              "      <th></th>\n",
              "      <th>customer_id</th>\n",
              "      <th>customer_unique_id</th>\n",
              "      <th>customer_zip_code_prefix</th>\n",
              "      <th>customer_city</th>\n",
              "      <th>customer_state</th>\n",
              "    </tr>\n",
              "  </thead>\n",
              "  <tbody>\n",
              "    <tr>\n",
              "      <th>0</th>\n",
              "      <td>06b8999e2fba1a1fbc88172c00ba8bc7</td>\n",
              "      <td>861eff4711a542e4b93843c6dd7febb0</td>\n",
              "      <td>14409</td>\n",
              "      <td>franca</td>\n",
              "      <td>SP</td>\n",
              "    </tr>\n",
              "    <tr>\n",
              "      <th>1</th>\n",
              "      <td>18955e83d337fd6b2def6b18a428ac77</td>\n",
              "      <td>290c77bc529b7ac935b93aa66c333dc3</td>\n",
              "      <td>9790</td>\n",
              "      <td>sao bernardo do campo</td>\n",
              "      <td>SP</td>\n",
              "    </tr>\n",
              "    <tr>\n",
              "      <th>2</th>\n",
              "      <td>4e7b3e00288586ebd08712fdd0374a03</td>\n",
              "      <td>060e732b5b29e8181a18229c7b0b2b5e</td>\n",
              "      <td>1151</td>\n",
              "      <td>sao paulo</td>\n",
              "      <td>SP</td>\n",
              "    </tr>\n",
              "    <tr>\n",
              "      <th>3</th>\n",
              "      <td>b2b6027bc5c5109e529d4dc6358b12c3</td>\n",
              "      <td>259dac757896d24d7702b9acbbff3f3c</td>\n",
              "      <td>8775</td>\n",
              "      <td>mogi das cruzes</td>\n",
              "      <td>SP</td>\n",
              "    </tr>\n",
              "    <tr>\n",
              "      <th>4</th>\n",
              "      <td>4f2d8ab171c80ec8364f7c12e35b23ad</td>\n",
              "      <td>345ecd01c38d18a9036ed96c73b8d066</td>\n",
              "      <td>13056</td>\n",
              "      <td>campinas</td>\n",
              "      <td>SP</td>\n",
              "    </tr>\n",
              "  </tbody>\n",
              "</table>\n",
              "</div>"
            ],
            "text/plain": [
              "                        customer_id  ... customer_state\n",
              "0  06b8999e2fba1a1fbc88172c00ba8bc7  ...             SP\n",
              "1  18955e83d337fd6b2def6b18a428ac77  ...             SP\n",
              "2  4e7b3e00288586ebd08712fdd0374a03  ...             SP\n",
              "3  b2b6027bc5c5109e529d4dc6358b12c3  ...             SP\n",
              "4  4f2d8ab171c80ec8364f7c12e35b23ad  ...             SP\n",
              "\n",
              "[5 rows x 5 columns]"
            ]
          },
          "metadata": {
            "tags": []
          },
          "execution_count": 4
        }
      ]
    },
    {
      "cell_type": "code",
      "metadata": {
        "id": "7a9kbz7jPetg",
        "colab_type": "code",
        "colab": {
          "base_uri": "https://localhost:8080/",
          "height": 191
        },
        "outputId": "4632bebe-7f7a-487a-9a8c-d2bcca86a004"
      },
      "source": [
        "df_geolocation.head()"
      ],
      "execution_count": 5,
      "outputs": [
        {
          "output_type": "execute_result",
          "data": {
            "text/html": [
              "<div>\n",
              "<style scoped>\n",
              "    .dataframe tbody tr th:only-of-type {\n",
              "        vertical-align: middle;\n",
              "    }\n",
              "\n",
              "    .dataframe tbody tr th {\n",
              "        vertical-align: top;\n",
              "    }\n",
              "\n",
              "    .dataframe thead th {\n",
              "        text-align: right;\n",
              "    }\n",
              "</style>\n",
              "<table border=\"1\" class=\"dataframe\">\n",
              "  <thead>\n",
              "    <tr style=\"text-align: right;\">\n",
              "      <th></th>\n",
              "      <th>geolocation_zip_code_prefix</th>\n",
              "      <th>geolocation_lat</th>\n",
              "      <th>geolocation_lng</th>\n",
              "      <th>geolocation_city</th>\n",
              "      <th>geolocation_state</th>\n",
              "    </tr>\n",
              "  </thead>\n",
              "  <tbody>\n",
              "    <tr>\n",
              "      <th>0</th>\n",
              "      <td>1037</td>\n",
              "      <td>-23.545621</td>\n",
              "      <td>-46.639292</td>\n",
              "      <td>sao paulo</td>\n",
              "      <td>SP</td>\n",
              "    </tr>\n",
              "    <tr>\n",
              "      <th>1</th>\n",
              "      <td>1046</td>\n",
              "      <td>-23.546081</td>\n",
              "      <td>-46.644820</td>\n",
              "      <td>sao paulo</td>\n",
              "      <td>SP</td>\n",
              "    </tr>\n",
              "    <tr>\n",
              "      <th>2</th>\n",
              "      <td>1046</td>\n",
              "      <td>-23.546129</td>\n",
              "      <td>-46.642951</td>\n",
              "      <td>sao paulo</td>\n",
              "      <td>SP</td>\n",
              "    </tr>\n",
              "    <tr>\n",
              "      <th>3</th>\n",
              "      <td>1041</td>\n",
              "      <td>-23.544392</td>\n",
              "      <td>-46.639499</td>\n",
              "      <td>sao paulo</td>\n",
              "      <td>SP</td>\n",
              "    </tr>\n",
              "    <tr>\n",
              "      <th>4</th>\n",
              "      <td>1035</td>\n",
              "      <td>-23.541578</td>\n",
              "      <td>-46.641607</td>\n",
              "      <td>sao paulo</td>\n",
              "      <td>SP</td>\n",
              "    </tr>\n",
              "  </tbody>\n",
              "</table>\n",
              "</div>"
            ],
            "text/plain": [
              "   geolocation_zip_code_prefix  ...  geolocation_state\n",
              "0                         1037  ...                 SP\n",
              "1                         1046  ...                 SP\n",
              "2                         1046  ...                 SP\n",
              "3                         1041  ...                 SP\n",
              "4                         1035  ...                 SP\n",
              "\n",
              "[5 rows x 5 columns]"
            ]
          },
          "metadata": {
            "tags": []
          },
          "execution_count": 5
        }
      ]
    },
    {
      "cell_type": "code",
      "metadata": {
        "id": "XIaNxWxjPetl",
        "colab_type": "code",
        "colab": {
          "base_uri": "https://localhost:8080/",
          "height": 191
        },
        "outputId": "6998d1d9-d7fc-4f77-cbda-9bacd7fc6a3f"
      },
      "source": [
        "df_order_item.head()"
      ],
      "execution_count": 6,
      "outputs": [
        {
          "output_type": "execute_result",
          "data": {
            "text/html": [
              "<div>\n",
              "<style scoped>\n",
              "    .dataframe tbody tr th:only-of-type {\n",
              "        vertical-align: middle;\n",
              "    }\n",
              "\n",
              "    .dataframe tbody tr th {\n",
              "        vertical-align: top;\n",
              "    }\n",
              "\n",
              "    .dataframe thead th {\n",
              "        text-align: right;\n",
              "    }\n",
              "</style>\n",
              "<table border=\"1\" class=\"dataframe\">\n",
              "  <thead>\n",
              "    <tr style=\"text-align: right;\">\n",
              "      <th></th>\n",
              "      <th>order_id</th>\n",
              "      <th>order_item_id</th>\n",
              "      <th>product_id</th>\n",
              "      <th>seller_id</th>\n",
              "      <th>shipping_limit_date</th>\n",
              "      <th>price</th>\n",
              "      <th>freight_value</th>\n",
              "    </tr>\n",
              "  </thead>\n",
              "  <tbody>\n",
              "    <tr>\n",
              "      <th>0</th>\n",
              "      <td>00010242fe8c5a6d1ba2dd792cb16214</td>\n",
              "      <td>1</td>\n",
              "      <td>4244733e06e7ecb4970a6e2683c13e61</td>\n",
              "      <td>48436dade18ac8b2bce089ec2a041202</td>\n",
              "      <td>2017-09-19 09:45:35</td>\n",
              "      <td>58.90</td>\n",
              "      <td>13.29</td>\n",
              "    </tr>\n",
              "    <tr>\n",
              "      <th>1</th>\n",
              "      <td>00018f77f2f0320c557190d7a144bdd3</td>\n",
              "      <td>1</td>\n",
              "      <td>e5f2d52b802189ee658865ca93d83a8f</td>\n",
              "      <td>dd7ddc04e1b6c2c614352b383efe2d36</td>\n",
              "      <td>2017-05-03 11:05:13</td>\n",
              "      <td>239.90</td>\n",
              "      <td>19.93</td>\n",
              "    </tr>\n",
              "    <tr>\n",
              "      <th>2</th>\n",
              "      <td>000229ec398224ef6ca0657da4fc703e</td>\n",
              "      <td>1</td>\n",
              "      <td>c777355d18b72b67abbeef9df44fd0fd</td>\n",
              "      <td>5b51032eddd242adc84c38acab88f23d</td>\n",
              "      <td>2018-01-18 14:48:30</td>\n",
              "      <td>199.00</td>\n",
              "      <td>17.87</td>\n",
              "    </tr>\n",
              "    <tr>\n",
              "      <th>3</th>\n",
              "      <td>00024acbcdf0a6daa1e931b038114c75</td>\n",
              "      <td>1</td>\n",
              "      <td>7634da152a4610f1595efa32f14722fc</td>\n",
              "      <td>9d7a1d34a5052409006425275ba1c2b4</td>\n",
              "      <td>2018-08-15 10:10:18</td>\n",
              "      <td>12.99</td>\n",
              "      <td>12.79</td>\n",
              "    </tr>\n",
              "    <tr>\n",
              "      <th>4</th>\n",
              "      <td>00042b26cf59d7ce69dfabb4e55b4fd9</td>\n",
              "      <td>1</td>\n",
              "      <td>ac6c3623068f30de03045865e4e10089</td>\n",
              "      <td>df560393f3a51e74553ab94004ba5c87</td>\n",
              "      <td>2017-02-13 13:57:51</td>\n",
              "      <td>199.90</td>\n",
              "      <td>18.14</td>\n",
              "    </tr>\n",
              "  </tbody>\n",
              "</table>\n",
              "</div>"
            ],
            "text/plain": [
              "                           order_id  order_item_id  ...   price freight_value\n",
              "0  00010242fe8c5a6d1ba2dd792cb16214              1  ...   58.90         13.29\n",
              "1  00018f77f2f0320c557190d7a144bdd3              1  ...  239.90         19.93\n",
              "2  000229ec398224ef6ca0657da4fc703e              1  ...  199.00         17.87\n",
              "3  00024acbcdf0a6daa1e931b038114c75              1  ...   12.99         12.79\n",
              "4  00042b26cf59d7ce69dfabb4e55b4fd9              1  ...  199.90         18.14\n",
              "\n",
              "[5 rows x 7 columns]"
            ]
          },
          "metadata": {
            "tags": []
          },
          "execution_count": 6
        }
      ]
    },
    {
      "cell_type": "code",
      "metadata": {
        "id": "Y3O4iFj_Petp",
        "colab_type": "code",
        "colab": {
          "base_uri": "https://localhost:8080/",
          "height": 191
        },
        "outputId": "b991753c-1a0d-4cca-c899-e03281e43ac4"
      },
      "source": [
        "df_order_payments.head()"
      ],
      "execution_count": 7,
      "outputs": [
        {
          "output_type": "execute_result",
          "data": {
            "text/html": [
              "<div>\n",
              "<style scoped>\n",
              "    .dataframe tbody tr th:only-of-type {\n",
              "        vertical-align: middle;\n",
              "    }\n",
              "\n",
              "    .dataframe tbody tr th {\n",
              "        vertical-align: top;\n",
              "    }\n",
              "\n",
              "    .dataframe thead th {\n",
              "        text-align: right;\n",
              "    }\n",
              "</style>\n",
              "<table border=\"1\" class=\"dataframe\">\n",
              "  <thead>\n",
              "    <tr style=\"text-align: right;\">\n",
              "      <th></th>\n",
              "      <th>order_id</th>\n",
              "      <th>payment_sequential</th>\n",
              "      <th>payment_type</th>\n",
              "      <th>payment_installments</th>\n",
              "      <th>payment_value</th>\n",
              "    </tr>\n",
              "  </thead>\n",
              "  <tbody>\n",
              "    <tr>\n",
              "      <th>0</th>\n",
              "      <td>b81ef226f3fe1789b1e8b2acac839d17</td>\n",
              "      <td>1</td>\n",
              "      <td>credit_card</td>\n",
              "      <td>8</td>\n",
              "      <td>99.33</td>\n",
              "    </tr>\n",
              "    <tr>\n",
              "      <th>1</th>\n",
              "      <td>a9810da82917af2d9aefd1278f1dcfa0</td>\n",
              "      <td>1</td>\n",
              "      <td>credit_card</td>\n",
              "      <td>1</td>\n",
              "      <td>24.39</td>\n",
              "    </tr>\n",
              "    <tr>\n",
              "      <th>2</th>\n",
              "      <td>25e8ea4e93396b6fa0d3dd708e76c1bd</td>\n",
              "      <td>1</td>\n",
              "      <td>credit_card</td>\n",
              "      <td>1</td>\n",
              "      <td>65.71</td>\n",
              "    </tr>\n",
              "    <tr>\n",
              "      <th>3</th>\n",
              "      <td>ba78997921bbcdc1373bb41e913ab953</td>\n",
              "      <td>1</td>\n",
              "      <td>credit_card</td>\n",
              "      <td>8</td>\n",
              "      <td>107.78</td>\n",
              "    </tr>\n",
              "    <tr>\n",
              "      <th>4</th>\n",
              "      <td>42fdf880ba16b47b59251dd489d4441a</td>\n",
              "      <td>1</td>\n",
              "      <td>credit_card</td>\n",
              "      <td>2</td>\n",
              "      <td>128.45</td>\n",
              "    </tr>\n",
              "  </tbody>\n",
              "</table>\n",
              "</div>"
            ],
            "text/plain": [
              "                           order_id  ...  payment_value\n",
              "0  b81ef226f3fe1789b1e8b2acac839d17  ...          99.33\n",
              "1  a9810da82917af2d9aefd1278f1dcfa0  ...          24.39\n",
              "2  25e8ea4e93396b6fa0d3dd708e76c1bd  ...          65.71\n",
              "3  ba78997921bbcdc1373bb41e913ab953  ...         107.78\n",
              "4  42fdf880ba16b47b59251dd489d4441a  ...         128.45\n",
              "\n",
              "[5 rows x 5 columns]"
            ]
          },
          "metadata": {
            "tags": []
          },
          "execution_count": 7
        }
      ]
    },
    {
      "cell_type": "code",
      "metadata": {
        "id": "AVg5uHq2Petu",
        "colab_type": "code",
        "colab": {
          "base_uri": "https://localhost:8080/",
          "height": 207
        },
        "outputId": "46e199b5-f1b5-4a9a-dfe5-7d70f11e8dd2"
      },
      "source": [
        "df_order_reviews.head()"
      ],
      "execution_count": 8,
      "outputs": [
        {
          "output_type": "execute_result",
          "data": {
            "text/html": [
              "<div>\n",
              "<style scoped>\n",
              "    .dataframe tbody tr th:only-of-type {\n",
              "        vertical-align: middle;\n",
              "    }\n",
              "\n",
              "    .dataframe tbody tr th {\n",
              "        vertical-align: top;\n",
              "    }\n",
              "\n",
              "    .dataframe thead th {\n",
              "        text-align: right;\n",
              "    }\n",
              "</style>\n",
              "<table border=\"1\" class=\"dataframe\">\n",
              "  <thead>\n",
              "    <tr style=\"text-align: right;\">\n",
              "      <th></th>\n",
              "      <th>review_id</th>\n",
              "      <th>order_id</th>\n",
              "      <th>review_score</th>\n",
              "      <th>review_comment_title</th>\n",
              "      <th>review_comment_message</th>\n",
              "      <th>review_creation_date</th>\n",
              "      <th>review_answer_timestamp</th>\n",
              "    </tr>\n",
              "  </thead>\n",
              "  <tbody>\n",
              "    <tr>\n",
              "      <th>0</th>\n",
              "      <td>7bc2406110b926393aa56f80a40eba40</td>\n",
              "      <td>73fc7af87114b39712e6da79b0a377eb</td>\n",
              "      <td>4</td>\n",
              "      <td>NaN</td>\n",
              "      <td>NaN</td>\n",
              "      <td>2018-01-18 00:00:00</td>\n",
              "      <td>2018-01-18 21:46:59</td>\n",
              "    </tr>\n",
              "    <tr>\n",
              "      <th>1</th>\n",
              "      <td>80e641a11e56f04c1ad469d5645fdfde</td>\n",
              "      <td>a548910a1c6147796b98fdf73dbeba33</td>\n",
              "      <td>5</td>\n",
              "      <td>NaN</td>\n",
              "      <td>NaN</td>\n",
              "      <td>2018-03-10 00:00:00</td>\n",
              "      <td>2018-03-11 03:05:13</td>\n",
              "    </tr>\n",
              "    <tr>\n",
              "      <th>2</th>\n",
              "      <td>228ce5500dc1d8e020d8d1322874b6f0</td>\n",
              "      <td>f9e4b658b201a9f2ecdecbb34bed034b</td>\n",
              "      <td>5</td>\n",
              "      <td>NaN</td>\n",
              "      <td>NaN</td>\n",
              "      <td>2018-02-17 00:00:00</td>\n",
              "      <td>2018-02-18 14:36:24</td>\n",
              "    </tr>\n",
              "    <tr>\n",
              "      <th>3</th>\n",
              "      <td>e64fb393e7b32834bb789ff8bb30750e</td>\n",
              "      <td>658677c97b385a9be170737859d3511b</td>\n",
              "      <td>5</td>\n",
              "      <td>NaN</td>\n",
              "      <td>Recebi bem antes do prazo estipulado.</td>\n",
              "      <td>2017-04-21 00:00:00</td>\n",
              "      <td>2017-04-21 22:02:06</td>\n",
              "    </tr>\n",
              "    <tr>\n",
              "      <th>4</th>\n",
              "      <td>f7c4243c7fe1938f181bec41a392bdeb</td>\n",
              "      <td>8e6bfb81e283fa7e4f11123a3fb894f1</td>\n",
              "      <td>5</td>\n",
              "      <td>NaN</td>\n",
              "      <td>Parabéns lojas lannister adorei comprar pela I...</td>\n",
              "      <td>2018-03-01 00:00:00</td>\n",
              "      <td>2018-03-02 10:26:53</td>\n",
              "    </tr>\n",
              "  </tbody>\n",
              "</table>\n",
              "</div>"
            ],
            "text/plain": [
              "                          review_id  ... review_answer_timestamp\n",
              "0  7bc2406110b926393aa56f80a40eba40  ...     2018-01-18 21:46:59\n",
              "1  80e641a11e56f04c1ad469d5645fdfde  ...     2018-03-11 03:05:13\n",
              "2  228ce5500dc1d8e020d8d1322874b6f0  ...     2018-02-18 14:36:24\n",
              "3  e64fb393e7b32834bb789ff8bb30750e  ...     2017-04-21 22:02:06\n",
              "4  f7c4243c7fe1938f181bec41a392bdeb  ...     2018-03-02 10:26:53\n",
              "\n",
              "[5 rows x 7 columns]"
            ]
          },
          "metadata": {
            "tags": []
          },
          "execution_count": 8
        }
      ]
    },
    {
      "cell_type": "code",
      "metadata": {
        "id": "hS7Na3y2Petz",
        "colab_type": "code",
        "colab": {
          "base_uri": "https://localhost:8080/",
          "height": 35
        },
        "outputId": "0241d5dc-ec7c-45c8-fe2b-c53cb4d95d13"
      },
      "source": [
        "df_orders.head()\n",
        "\n",
        "\n",
        "df_orders['customer_id'].nunique()"
      ],
      "execution_count": 9,
      "outputs": [
        {
          "output_type": "execute_result",
          "data": {
            "text/plain": [
              "99441"
            ]
          },
          "metadata": {
            "tags": []
          },
          "execution_count": 9
        }
      ]
    },
    {
      "cell_type": "code",
      "metadata": {
        "id": "pgfUImEZPet3",
        "colab_type": "code",
        "colab": {
          "base_uri": "https://localhost:8080/",
          "height": 211
        },
        "outputId": "5e6366e3-c06c-4c4e-c303-84f5f233660b"
      },
      "source": [
        "df_products.head()"
      ],
      "execution_count": 10,
      "outputs": [
        {
          "output_type": "execute_result",
          "data": {
            "text/html": [
              "<div>\n",
              "<style scoped>\n",
              "    .dataframe tbody tr th:only-of-type {\n",
              "        vertical-align: middle;\n",
              "    }\n",
              "\n",
              "    .dataframe tbody tr th {\n",
              "        vertical-align: top;\n",
              "    }\n",
              "\n",
              "    .dataframe thead th {\n",
              "        text-align: right;\n",
              "    }\n",
              "</style>\n",
              "<table border=\"1\" class=\"dataframe\">\n",
              "  <thead>\n",
              "    <tr style=\"text-align: right;\">\n",
              "      <th></th>\n",
              "      <th>product_id</th>\n",
              "      <th>product_category_name</th>\n",
              "      <th>product_name_lenght</th>\n",
              "      <th>product_description_lenght</th>\n",
              "      <th>product_photos_qty</th>\n",
              "      <th>product_weight_g</th>\n",
              "      <th>product_length_cm</th>\n",
              "      <th>product_height_cm</th>\n",
              "      <th>product_width_cm</th>\n",
              "    </tr>\n",
              "  </thead>\n",
              "  <tbody>\n",
              "    <tr>\n",
              "      <th>0</th>\n",
              "      <td>1e9e8ef04dbcff4541ed26657ea517e5</td>\n",
              "      <td>perfumaria</td>\n",
              "      <td>40.0</td>\n",
              "      <td>287.0</td>\n",
              "      <td>1.0</td>\n",
              "      <td>225.0</td>\n",
              "      <td>16.0</td>\n",
              "      <td>10.0</td>\n",
              "      <td>14.0</td>\n",
              "    </tr>\n",
              "    <tr>\n",
              "      <th>1</th>\n",
              "      <td>3aa071139cb16b67ca9e5dea641aaa2f</td>\n",
              "      <td>artes</td>\n",
              "      <td>44.0</td>\n",
              "      <td>276.0</td>\n",
              "      <td>1.0</td>\n",
              "      <td>1000.0</td>\n",
              "      <td>30.0</td>\n",
              "      <td>18.0</td>\n",
              "      <td>20.0</td>\n",
              "    </tr>\n",
              "    <tr>\n",
              "      <th>2</th>\n",
              "      <td>96bd76ec8810374ed1b65e291975717f</td>\n",
              "      <td>esporte_lazer</td>\n",
              "      <td>46.0</td>\n",
              "      <td>250.0</td>\n",
              "      <td>1.0</td>\n",
              "      <td>154.0</td>\n",
              "      <td>18.0</td>\n",
              "      <td>9.0</td>\n",
              "      <td>15.0</td>\n",
              "    </tr>\n",
              "    <tr>\n",
              "      <th>3</th>\n",
              "      <td>cef67bcfe19066a932b7673e239eb23d</td>\n",
              "      <td>bebes</td>\n",
              "      <td>27.0</td>\n",
              "      <td>261.0</td>\n",
              "      <td>1.0</td>\n",
              "      <td>371.0</td>\n",
              "      <td>26.0</td>\n",
              "      <td>4.0</td>\n",
              "      <td>26.0</td>\n",
              "    </tr>\n",
              "    <tr>\n",
              "      <th>4</th>\n",
              "      <td>9dc1a7de274444849c219cff195d0b71</td>\n",
              "      <td>utilidades_domesticas</td>\n",
              "      <td>37.0</td>\n",
              "      <td>402.0</td>\n",
              "      <td>4.0</td>\n",
              "      <td>625.0</td>\n",
              "      <td>20.0</td>\n",
              "      <td>17.0</td>\n",
              "      <td>13.0</td>\n",
              "    </tr>\n",
              "  </tbody>\n",
              "</table>\n",
              "</div>"
            ],
            "text/plain": [
              "                         product_id  ... product_width_cm\n",
              "0  1e9e8ef04dbcff4541ed26657ea517e5  ...             14.0\n",
              "1  3aa071139cb16b67ca9e5dea641aaa2f  ...             20.0\n",
              "2  96bd76ec8810374ed1b65e291975717f  ...             15.0\n",
              "3  cef67bcfe19066a932b7673e239eb23d  ...             26.0\n",
              "4  9dc1a7de274444849c219cff195d0b71  ...             13.0\n",
              "\n",
              "[5 rows x 9 columns]"
            ]
          },
          "metadata": {
            "tags": []
          },
          "execution_count": 10
        }
      ]
    },
    {
      "cell_type": "code",
      "metadata": {
        "id": "V48kLcIuPet7",
        "colab_type": "code",
        "colab": {
          "base_uri": "https://localhost:8080/",
          "height": 391
        },
        "outputId": "007ff642-4e5b-4537-966d-38243ee012fe"
      },
      "source": [
        "df_sellers"
      ],
      "execution_count": 11,
      "outputs": [
        {
          "output_type": "execute_result",
          "data": {
            "text/html": [
              "<div>\n",
              "<style scoped>\n",
              "    .dataframe tbody tr th:only-of-type {\n",
              "        vertical-align: middle;\n",
              "    }\n",
              "\n",
              "    .dataframe tbody tr th {\n",
              "        vertical-align: top;\n",
              "    }\n",
              "\n",
              "    .dataframe thead th {\n",
              "        text-align: right;\n",
              "    }\n",
              "</style>\n",
              "<table border=\"1\" class=\"dataframe\">\n",
              "  <thead>\n",
              "    <tr style=\"text-align: right;\">\n",
              "      <th></th>\n",
              "      <th>seller_id</th>\n",
              "      <th>seller_zip_code_prefix</th>\n",
              "      <th>seller_city</th>\n",
              "      <th>seller_state</th>\n",
              "    </tr>\n",
              "  </thead>\n",
              "  <tbody>\n",
              "    <tr>\n",
              "      <th>0</th>\n",
              "      <td>3442f8959a84dea7ee197c632cb2df15</td>\n",
              "      <td>13023</td>\n",
              "      <td>campinas</td>\n",
              "      <td>SP</td>\n",
              "    </tr>\n",
              "    <tr>\n",
              "      <th>1</th>\n",
              "      <td>d1b65fc7debc3361ea86b5f14c68d2e2</td>\n",
              "      <td>13844</td>\n",
              "      <td>mogi guacu</td>\n",
              "      <td>SP</td>\n",
              "    </tr>\n",
              "    <tr>\n",
              "      <th>2</th>\n",
              "      <td>ce3ad9de960102d0677a81f5d0bb7b2d</td>\n",
              "      <td>20031</td>\n",
              "      <td>rio de janeiro</td>\n",
              "      <td>RJ</td>\n",
              "    </tr>\n",
              "    <tr>\n",
              "      <th>3</th>\n",
              "      <td>c0f3eea2e14555b6faeea3dd58c1b1c3</td>\n",
              "      <td>4195</td>\n",
              "      <td>sao paulo</td>\n",
              "      <td>SP</td>\n",
              "    </tr>\n",
              "    <tr>\n",
              "      <th>4</th>\n",
              "      <td>51a04a8a6bdcb23deccc82b0b80742cf</td>\n",
              "      <td>12914</td>\n",
              "      <td>braganca paulista</td>\n",
              "      <td>SP</td>\n",
              "    </tr>\n",
              "    <tr>\n",
              "      <th>...</th>\n",
              "      <td>...</td>\n",
              "      <td>...</td>\n",
              "      <td>...</td>\n",
              "      <td>...</td>\n",
              "    </tr>\n",
              "    <tr>\n",
              "      <th>3090</th>\n",
              "      <td>98dddbc4601dd4443ca174359b237166</td>\n",
              "      <td>87111</td>\n",
              "      <td>sarandi</td>\n",
              "      <td>PR</td>\n",
              "    </tr>\n",
              "    <tr>\n",
              "      <th>3091</th>\n",
              "      <td>f8201cab383e484733266d1906e2fdfa</td>\n",
              "      <td>88137</td>\n",
              "      <td>palhoca</td>\n",
              "      <td>SC</td>\n",
              "    </tr>\n",
              "    <tr>\n",
              "      <th>3092</th>\n",
              "      <td>74871d19219c7d518d0090283e03c137</td>\n",
              "      <td>4650</td>\n",
              "      <td>sao paulo</td>\n",
              "      <td>SP</td>\n",
              "    </tr>\n",
              "    <tr>\n",
              "      <th>3093</th>\n",
              "      <td>e603cf3fec55f8697c9059638d6c8eb5</td>\n",
              "      <td>96080</td>\n",
              "      <td>pelotas</td>\n",
              "      <td>RS</td>\n",
              "    </tr>\n",
              "    <tr>\n",
              "      <th>3094</th>\n",
              "      <td>9e25199f6ef7e7c347120ff175652c3b</td>\n",
              "      <td>12051</td>\n",
              "      <td>taubate</td>\n",
              "      <td>SP</td>\n",
              "    </tr>\n",
              "  </tbody>\n",
              "</table>\n",
              "<p>3095 rows × 4 columns</p>\n",
              "</div>"
            ],
            "text/plain": [
              "                             seller_id  ...  seller_state\n",
              "0     3442f8959a84dea7ee197c632cb2df15  ...            SP\n",
              "1     d1b65fc7debc3361ea86b5f14c68d2e2  ...            SP\n",
              "2     ce3ad9de960102d0677a81f5d0bb7b2d  ...            RJ\n",
              "3     c0f3eea2e14555b6faeea3dd58c1b1c3  ...            SP\n",
              "4     51a04a8a6bdcb23deccc82b0b80742cf  ...            SP\n",
              "...                                ...  ...           ...\n",
              "3090  98dddbc4601dd4443ca174359b237166  ...            PR\n",
              "3091  f8201cab383e484733266d1906e2fdfa  ...            SC\n",
              "3092  74871d19219c7d518d0090283e03c137  ...            SP\n",
              "3093  e603cf3fec55f8697c9059638d6c8eb5  ...            RS\n",
              "3094  9e25199f6ef7e7c347120ff175652c3b  ...            SP\n",
              "\n",
              "[3095 rows x 4 columns]"
            ]
          },
          "metadata": {
            "tags": []
          },
          "execution_count": 11
        }
      ]
    },
    {
      "cell_type": "code",
      "metadata": {
        "id": "vCNE0_W1PeuB",
        "colab_type": "code",
        "colab": {
          "base_uri": "https://localhost:8080/",
          "height": 411
        },
        "outputId": "1086638e-3835-4dbd-dbff-6f04b0981360"
      },
      "source": [
        "df_orders"
      ],
      "execution_count": 12,
      "outputs": [
        {
          "output_type": "execute_result",
          "data": {
            "text/html": [
              "<div>\n",
              "<style scoped>\n",
              "    .dataframe tbody tr th:only-of-type {\n",
              "        vertical-align: middle;\n",
              "    }\n",
              "\n",
              "    .dataframe tbody tr th {\n",
              "        vertical-align: top;\n",
              "    }\n",
              "\n",
              "    .dataframe thead th {\n",
              "        text-align: right;\n",
              "    }\n",
              "</style>\n",
              "<table border=\"1\" class=\"dataframe\">\n",
              "  <thead>\n",
              "    <tr style=\"text-align: right;\">\n",
              "      <th></th>\n",
              "      <th>order_id</th>\n",
              "      <th>customer_id</th>\n",
              "      <th>order_status</th>\n",
              "      <th>order_purchase_timestamp</th>\n",
              "      <th>order_approved_at</th>\n",
              "      <th>order_delivered_carrier_date</th>\n",
              "      <th>order_delivered_customer_date</th>\n",
              "      <th>order_estimated_delivery_date</th>\n",
              "    </tr>\n",
              "  </thead>\n",
              "  <tbody>\n",
              "    <tr>\n",
              "      <th>0</th>\n",
              "      <td>e481f51cbdc54678b7cc49136f2d6af7</td>\n",
              "      <td>9ef432eb6251297304e76186b10a928d</td>\n",
              "      <td>delivered</td>\n",
              "      <td>2017-10-02 10:56:33</td>\n",
              "      <td>2017-10-02 11:07:15</td>\n",
              "      <td>2017-10-04 19:55:00</td>\n",
              "      <td>2017-10-10 21:25:13</td>\n",
              "      <td>2017-10-18 00:00:00</td>\n",
              "    </tr>\n",
              "    <tr>\n",
              "      <th>1</th>\n",
              "      <td>53cdb2fc8bc7dce0b6741e2150273451</td>\n",
              "      <td>b0830fb4747a6c6d20dea0b8c802d7ef</td>\n",
              "      <td>delivered</td>\n",
              "      <td>2018-07-24 20:41:37</td>\n",
              "      <td>2018-07-26 03:24:27</td>\n",
              "      <td>2018-07-26 14:31:00</td>\n",
              "      <td>2018-08-07 15:27:45</td>\n",
              "      <td>2018-08-13 00:00:00</td>\n",
              "    </tr>\n",
              "    <tr>\n",
              "      <th>2</th>\n",
              "      <td>47770eb9100c2d0c44946d9cf07ec65d</td>\n",
              "      <td>41ce2a54c0b03bf3443c3d931a367089</td>\n",
              "      <td>delivered</td>\n",
              "      <td>2018-08-08 08:38:49</td>\n",
              "      <td>2018-08-08 08:55:23</td>\n",
              "      <td>2018-08-08 13:50:00</td>\n",
              "      <td>2018-08-17 18:06:29</td>\n",
              "      <td>2018-09-04 00:00:00</td>\n",
              "    </tr>\n",
              "    <tr>\n",
              "      <th>3</th>\n",
              "      <td>949d5b44dbf5de918fe9c16f97b45f8a</td>\n",
              "      <td>f88197465ea7920adcdbec7375364d82</td>\n",
              "      <td>delivered</td>\n",
              "      <td>2017-11-18 19:28:06</td>\n",
              "      <td>2017-11-18 19:45:59</td>\n",
              "      <td>2017-11-22 13:39:59</td>\n",
              "      <td>2017-12-02 00:28:42</td>\n",
              "      <td>2017-12-15 00:00:00</td>\n",
              "    </tr>\n",
              "    <tr>\n",
              "      <th>4</th>\n",
              "      <td>ad21c59c0840e6cb83a9ceb5573f8159</td>\n",
              "      <td>8ab97904e6daea8866dbdbc4fb7aad2c</td>\n",
              "      <td>delivered</td>\n",
              "      <td>2018-02-13 21:18:39</td>\n",
              "      <td>2018-02-13 22:20:29</td>\n",
              "      <td>2018-02-14 19:46:34</td>\n",
              "      <td>2018-02-16 18:17:02</td>\n",
              "      <td>2018-02-26 00:00:00</td>\n",
              "    </tr>\n",
              "    <tr>\n",
              "      <th>...</th>\n",
              "      <td>...</td>\n",
              "      <td>...</td>\n",
              "      <td>...</td>\n",
              "      <td>...</td>\n",
              "      <td>...</td>\n",
              "      <td>...</td>\n",
              "      <td>...</td>\n",
              "      <td>...</td>\n",
              "    </tr>\n",
              "    <tr>\n",
              "      <th>99436</th>\n",
              "      <td>9c5dedf39a927c1b2549525ed64a053c</td>\n",
              "      <td>39bd1228ee8140590ac3aca26f2dfe00</td>\n",
              "      <td>delivered</td>\n",
              "      <td>2017-03-09 09:54:05</td>\n",
              "      <td>2017-03-09 09:54:05</td>\n",
              "      <td>2017-03-10 11:18:03</td>\n",
              "      <td>2017-03-17 15:08:01</td>\n",
              "      <td>2017-03-28 00:00:00</td>\n",
              "    </tr>\n",
              "    <tr>\n",
              "      <th>99437</th>\n",
              "      <td>63943bddc261676b46f01ca7ac2f7bd8</td>\n",
              "      <td>1fca14ff2861355f6e5f14306ff977a7</td>\n",
              "      <td>delivered</td>\n",
              "      <td>2018-02-06 12:58:58</td>\n",
              "      <td>2018-02-06 13:10:37</td>\n",
              "      <td>2018-02-07 23:22:42</td>\n",
              "      <td>2018-02-28 17:37:56</td>\n",
              "      <td>2018-03-02 00:00:00</td>\n",
              "    </tr>\n",
              "    <tr>\n",
              "      <th>99438</th>\n",
              "      <td>83c1379a015df1e13d02aae0204711ab</td>\n",
              "      <td>1aa71eb042121263aafbe80c1b562c9c</td>\n",
              "      <td>delivered</td>\n",
              "      <td>2017-08-27 14:46:43</td>\n",
              "      <td>2017-08-27 15:04:16</td>\n",
              "      <td>2017-08-28 20:52:26</td>\n",
              "      <td>2017-09-21 11:24:17</td>\n",
              "      <td>2017-09-27 00:00:00</td>\n",
              "    </tr>\n",
              "    <tr>\n",
              "      <th>99439</th>\n",
              "      <td>11c177c8e97725db2631073c19f07b62</td>\n",
              "      <td>b331b74b18dc79bcdf6532d51e1637c1</td>\n",
              "      <td>delivered</td>\n",
              "      <td>2018-01-08 21:28:27</td>\n",
              "      <td>2018-01-08 21:36:21</td>\n",
              "      <td>2018-01-12 15:35:03</td>\n",
              "      <td>2018-01-25 23:32:54</td>\n",
              "      <td>2018-02-15 00:00:00</td>\n",
              "    </tr>\n",
              "    <tr>\n",
              "      <th>99440</th>\n",
              "      <td>66dea50a8b16d9b4dee7af250b4be1a5</td>\n",
              "      <td>edb027a75a1449115f6b43211ae02a24</td>\n",
              "      <td>delivered</td>\n",
              "      <td>2018-03-08 20:57:30</td>\n",
              "      <td>2018-03-09 11:20:28</td>\n",
              "      <td>2018-03-09 22:11:59</td>\n",
              "      <td>2018-03-16 13:08:30</td>\n",
              "      <td>2018-04-03 00:00:00</td>\n",
              "    </tr>\n",
              "  </tbody>\n",
              "</table>\n",
              "<p>99441 rows × 8 columns</p>\n",
              "</div>"
            ],
            "text/plain": [
              "                               order_id  ... order_estimated_delivery_date\n",
              "0      e481f51cbdc54678b7cc49136f2d6af7  ...           2017-10-18 00:00:00\n",
              "1      53cdb2fc8bc7dce0b6741e2150273451  ...           2018-08-13 00:00:00\n",
              "2      47770eb9100c2d0c44946d9cf07ec65d  ...           2018-09-04 00:00:00\n",
              "3      949d5b44dbf5de918fe9c16f97b45f8a  ...           2017-12-15 00:00:00\n",
              "4      ad21c59c0840e6cb83a9ceb5573f8159  ...           2018-02-26 00:00:00\n",
              "...                                 ...  ...                           ...\n",
              "99436  9c5dedf39a927c1b2549525ed64a053c  ...           2017-03-28 00:00:00\n",
              "99437  63943bddc261676b46f01ca7ac2f7bd8  ...           2018-03-02 00:00:00\n",
              "99438  83c1379a015df1e13d02aae0204711ab  ...           2017-09-27 00:00:00\n",
              "99439  11c177c8e97725db2631073c19f07b62  ...           2018-02-15 00:00:00\n",
              "99440  66dea50a8b16d9b4dee7af250b4be1a5  ...           2018-04-03 00:00:00\n",
              "\n",
              "[99441 rows x 8 columns]"
            ]
          },
          "metadata": {
            "tags": []
          },
          "execution_count": 12
        }
      ]
    },
    {
      "cell_type": "markdown",
      "metadata": {
        "id": "Jftx7p_HPeuF",
        "colab_type": "text"
      },
      "source": [
        "## Data Preprocessing"
      ]
    },
    {
      "cell_type": "markdown",
      "metadata": {
        "id": "Z8o_hxXwPeuG",
        "colab_type": "text"
      },
      "source": [
        "### Processamento dos dados"
      ]
    },
    {
      "cell_type": "code",
      "metadata": {
        "id": "0X33366EPeuG",
        "colab_type": "code",
        "colab": {}
      },
      "source": [
        "# Filtrando colunas relevantes em cada dataframe\n",
        "\n",
        "df_customers      = df_customers[['customer_id', 'customer_city', 'customer_state']]\n",
        "df_order_payments = df_order_payments[['order_id', 'payment_sequential', 'payment_type', 'payment_installments', 'payment_value']]\n",
        "df_order_reviews  = df_order_reviews[['order_id', 'review_score']]\n",
        "df_orders         = df_orders[['order_id', 'customer_id', 'order_status', 'order_purchase_timestamp','order_delivered_customer_date','order_estimated_delivery_date']]\n",
        "df_products       = df_products[['product_id', 'product_category_name']]\n",
        "df_sellers        = df_sellers[['seller_id', 'seller_city', 'seller_state']]"
      ],
      "execution_count": 13,
      "outputs": []
    },
    {
      "cell_type": "code",
      "metadata": {
        "id": "eaMxguqTPeuK",
        "colab_type": "code",
        "colab": {}
      },
      "source": [
        "# Unindo todas as features em um único dataset\n",
        "\n",
        "df_merged = df_order_item.copy()  # Será que ter mais de um order_item atrapalha no merge???\n",
        "df_merged = df_merged.merge(df_order_payments, how='left', on='order_id')\n",
        "df_merged = df_merged.merge(df_order_reviews, how='left', on='order_id')\n",
        "df_merged = df_merged.merge(df_orders, how='left', on='order_id')\n",
        "df_merged = df_merged.merge(df_customers, how='left', on='customer_id')\n",
        "df_merged = df_merged.merge(df_products, how='left', on='product_id')\n",
        "df_merged = df_merged.merge(df_sellers, how='left', on='seller_id')"
      ],
      "execution_count": 14,
      "outputs": []
    },
    {
      "cell_type": "code",
      "metadata": {
        "id": "0unkSBTOPeuO",
        "colab_type": "code",
        "colab": {}
      },
      "source": [
        "# Colunas mais relevantes, que podem vir a ter alguma info útil para o modelo\n",
        "df_merged = df_merged[['order_id','order_item_id','product_id','customer_id','seller_id','price','freight_value',\n",
        "                        'payment_value','payment_sequential','payment_type','payment_installments','review_score',\n",
        "                        'product_category_name','order_status', 'order_purchase_timestamp',\n",
        "                        'order_delivered_customer_date','order_estimated_delivery_date','customer_city',\n",
        "                        'customer_state','seller_city','seller_state']]\n",
        "\n",
        "\n",
        "# Segurança: Tirar duplicatas após tantos merges!\n",
        "df_merged = df_merged.drop_duplicates()"
      ],
      "execution_count": 15,
      "outputs": []
    },
    {
      "cell_type": "code",
      "metadata": {
        "id": "4_YWky4tPeuS",
        "colab_type": "code",
        "colab": {
          "base_uri": "https://localhost:8080/",
          "height": 67
        },
        "outputId": "becd3dff-d4ba-4b39-8a99-d8559ec040a9"
      },
      "source": [
        "# Há linha sem preço ou sem frete?\n",
        "df_merged[df_merged['price'].isnull() | df_merged['freight_value'].isnull()]"
      ],
      "execution_count": 16,
      "outputs": [
        {
          "output_type": "execute_result",
          "data": {
            "text/html": [
              "<div>\n",
              "<style scoped>\n",
              "    .dataframe tbody tr th:only-of-type {\n",
              "        vertical-align: middle;\n",
              "    }\n",
              "\n",
              "    .dataframe tbody tr th {\n",
              "        vertical-align: top;\n",
              "    }\n",
              "\n",
              "    .dataframe thead th {\n",
              "        text-align: right;\n",
              "    }\n",
              "</style>\n",
              "<table border=\"1\" class=\"dataframe\">\n",
              "  <thead>\n",
              "    <tr style=\"text-align: right;\">\n",
              "      <th></th>\n",
              "      <th>order_id</th>\n",
              "      <th>order_item_id</th>\n",
              "      <th>product_id</th>\n",
              "      <th>customer_id</th>\n",
              "      <th>seller_id</th>\n",
              "      <th>price</th>\n",
              "      <th>freight_value</th>\n",
              "      <th>payment_value</th>\n",
              "      <th>payment_sequential</th>\n",
              "      <th>payment_type</th>\n",
              "      <th>payment_installments</th>\n",
              "      <th>review_score</th>\n",
              "      <th>product_category_name</th>\n",
              "      <th>order_status</th>\n",
              "      <th>order_purchase_timestamp</th>\n",
              "      <th>order_delivered_customer_date</th>\n",
              "      <th>order_estimated_delivery_date</th>\n",
              "      <th>customer_city</th>\n",
              "      <th>customer_state</th>\n",
              "      <th>seller_city</th>\n",
              "      <th>seller_state</th>\n",
              "    </tr>\n",
              "  </thead>\n",
              "  <tbody>\n",
              "  </tbody>\n",
              "</table>\n",
              "</div>"
            ],
            "text/plain": [
              "Empty DataFrame\n",
              "Columns: [order_id, order_item_id, product_id, customer_id, seller_id, price, freight_value, payment_value, payment_sequential, payment_type, payment_installments, review_score, product_category_name, order_status, order_purchase_timestamp, order_delivered_customer_date, order_estimated_delivery_date, customer_city, customer_state, seller_city, seller_state]\n",
              "Index: []"
            ]
          },
          "metadata": {
            "tags": []
          },
          "execution_count": 16
        }
      ]
    },
    {
      "cell_type": "code",
      "metadata": {
        "scrolled": false,
        "id": "wFn42xslPeuV",
        "colab_type": "code",
        "colab": {
          "base_uri": "https://localhost:8080/",
          "height": 507
        },
        "outputId": "eb55dd5e-c6dd-4429-c048-d0f84f5a7888"
      },
      "source": [
        "# Removendo colunas com pagamento nulo ou com \n",
        "df_final = df_merged[~(df_merged['product_category_name'].isnull())]\n",
        "df_final = df_final[~df_final['payment_value'].isnull()]\n",
        "df_final.info()"
      ],
      "execution_count": 17,
      "outputs": [
        {
          "output_type": "stream",
          "text": [
            "<class 'pandas.core.frame.DataFrame'>\n",
            "Int64Index: 116192 entries, 0 to 118317\n",
            "Data columns (total 21 columns):\n",
            " #   Column                         Non-Null Count   Dtype  \n",
            "---  ------                         --------------   -----  \n",
            " 0   order_id                       116192 non-null  object \n",
            " 1   order_item_id                  116192 non-null  int64  \n",
            " 2   product_id                     116192 non-null  object \n",
            " 3   customer_id                    116192 non-null  object \n",
            " 4   seller_id                      116192 non-null  object \n",
            " 5   price                          116192 non-null  float64\n",
            " 6   freight_value                  116192 non-null  float64\n",
            " 7   payment_value                  116192 non-null  float64\n",
            " 8   payment_sequential             116192 non-null  float64\n",
            " 9   payment_type                   116192 non-null  object \n",
            " 10  payment_installments           116192 non-null  float64\n",
            " 11  review_score                   116192 non-null  int64  \n",
            " 12  product_category_name          116192 non-null  object \n",
            " 13  order_status                   116192 non-null  object \n",
            " 14  order_purchase_timestamp       116192 non-null  object \n",
            " 15  order_delivered_customer_date  113683 non-null  object \n",
            " 16  order_estimated_delivery_date  116192 non-null  object \n",
            " 17  customer_city                  116192 non-null  object \n",
            " 18  customer_state                 116192 non-null  object \n",
            " 19  seller_city                    116192 non-null  object \n",
            " 20  seller_state                   116192 non-null  object \n",
            "dtypes: float64(5), int64(2), object(14)\n",
            "memory usage: 19.5+ MB\n"
          ],
          "name": "stdout"
        }
      ]
    },
    {
      "cell_type": "code",
      "metadata": {
        "id": "eyqQxXqXPeuZ",
        "colab_type": "code",
        "colab": {}
      },
      "source": [
        "# Colunas tidas como desnecessárias: notar que price + freight_value engloba payment_value\n",
        "df_final = df_final.drop(columns=['payment_value', 'payment_sequential', 'order_delivered_customer_date',\n",
        "                                  'order_estimated_delivery_date'])"
      ],
      "execution_count": 18,
      "outputs": []
    },
    {
      "cell_type": "code",
      "metadata": {
        "id": "d5nTDQrgPeue",
        "colab_type": "code",
        "colab": {}
      },
      "source": [
        "# Removendo pedidos não concretizados\n",
        "df_final = df_final[~df_final['order_status'].isin(['canceled', 'invoiced', 'unavailable'])]"
      ],
      "execution_count": 19,
      "outputs": []
    },
    {
      "cell_type": "code",
      "metadata": {
        "id": "hVI5YWJLPeui",
        "colab_type": "code",
        "colab": {
          "base_uri": "https://localhost:8080/",
          "height": 133
        },
        "outputId": "a7a529dc-cb40-444b-f779-12be1abc427a"
      },
      "source": [
        "# Há correlações relevantes entre as variáveis categóricas!\n",
        "df_final[['price', 'freight_value', 'payment_installments']].corr()"
      ],
      "execution_count": 20,
      "outputs": [
        {
          "output_type": "execute_result",
          "data": {
            "text/html": [
              "<div>\n",
              "<style scoped>\n",
              "    .dataframe tbody tr th:only-of-type {\n",
              "        vertical-align: middle;\n",
              "    }\n",
              "\n",
              "    .dataframe tbody tr th {\n",
              "        vertical-align: top;\n",
              "    }\n",
              "\n",
              "    .dataframe thead th {\n",
              "        text-align: right;\n",
              "    }\n",
              "</style>\n",
              "<table border=\"1\" class=\"dataframe\">\n",
              "  <thead>\n",
              "    <tr style=\"text-align: right;\">\n",
              "      <th></th>\n",
              "      <th>price</th>\n",
              "      <th>freight_value</th>\n",
              "      <th>payment_installments</th>\n",
              "    </tr>\n",
              "  </thead>\n",
              "  <tbody>\n",
              "    <tr>\n",
              "      <th>price</th>\n",
              "      <td>1.000000</td>\n",
              "      <td>0.415908</td>\n",
              "      <td>0.279009</td>\n",
              "    </tr>\n",
              "    <tr>\n",
              "      <th>freight_value</th>\n",
              "      <td>0.415908</td>\n",
              "      <td>1.000000</td>\n",
              "      <td>0.185909</td>\n",
              "    </tr>\n",
              "    <tr>\n",
              "      <th>payment_installments</th>\n",
              "      <td>0.279009</td>\n",
              "      <td>0.185909</td>\n",
              "      <td>1.000000</td>\n",
              "    </tr>\n",
              "  </tbody>\n",
              "</table>\n",
              "</div>"
            ],
            "text/plain": [
              "                         price  freight_value  payment_installments\n",
              "price                 1.000000       0.415908              0.279009\n",
              "freight_value         0.415908       1.000000              0.185909\n",
              "payment_installments  0.279009       0.185909              1.000000"
            ]
          },
          "metadata": {
            "tags": []
          },
          "execution_count": 20
        }
      ]
    },
    {
      "cell_type": "code",
      "metadata": {
        "id": "bIIdw_BRPeul",
        "colab_type": "code",
        "colab": {
          "base_uri": "https://localhost:8080/",
          "height": 437
        },
        "outputId": "3a048761-1128-4217-8db9-493eed7b8f0b"
      },
      "source": [
        "df_final.info()"
      ],
      "execution_count": 21,
      "outputs": [
        {
          "output_type": "stream",
          "text": [
            "<class 'pandas.core.frame.DataFrame'>\n",
            "Int64Index: 115269 entries, 0 to 118317\n",
            "Data columns (total 17 columns):\n",
            " #   Column                    Non-Null Count   Dtype  \n",
            "---  ------                    --------------   -----  \n",
            " 0   order_id                  115269 non-null  object \n",
            " 1   order_item_id             115269 non-null  int64  \n",
            " 2   product_id                115269 non-null  object \n",
            " 3   customer_id               115269 non-null  object \n",
            " 4   seller_id                 115269 non-null  object \n",
            " 5   price                     115269 non-null  float64\n",
            " 6   freight_value             115269 non-null  float64\n",
            " 7   payment_type              115269 non-null  object \n",
            " 8   payment_installments      115269 non-null  float64\n",
            " 9   review_score              115269 non-null  int64  \n",
            " 10  product_category_name     115269 non-null  object \n",
            " 11  order_status              115269 non-null  object \n",
            " 12  order_purchase_timestamp  115269 non-null  object \n",
            " 13  customer_city             115269 non-null  object \n",
            " 14  customer_state            115269 non-null  object \n",
            " 15  seller_city               115269 non-null  object \n",
            " 16  seller_state              115269 non-null  object \n",
            "dtypes: float64(3), int64(2), object(12)\n",
            "memory usage: 15.8+ MB\n"
          ],
          "name": "stdout"
        }
      ]
    },
    {
      "cell_type": "markdown",
      "metadata": {
        "id": "WQOAdan-Peuo",
        "colab_type": "text"
      },
      "source": [
        "# Funções auxiliares"
      ]
    },
    {
      "cell_type": "code",
      "metadata": {
        "id": "Ns0TdL9UPeup",
        "colab_type": "code",
        "colab": {}
      },
      "source": [
        "def get_dummies(df):\n",
        "    oh_payment_type          = pd.get_dummies(df['payment_type'])\n",
        "    oh_payment_installments  = pd.get_dummies(df['payment_installments'])\n",
        "    oh_product_category_name = pd.get_dummies(df['product_category_name']).fillna(0)\n",
        "    oh_customer_city         = pd.get_dummies(df['customer_city'])\n",
        "    oh_customer_state        = pd.get_dummies(df['customer_state'])\n",
        "    oh_seller_city           = pd.get_dummies(df['seller_city'])\n",
        "    oh_seller_state          = pd.get_dummies(df['seller_state'])\n",
        "\n",
        "    df_out = df[['price', 'freight_value', 'review_score', 'order_purchase_timestamp']].join(oh_payment_type)\n",
        "    df_out = df_out.join(oh_payment_installments)\n",
        "    df_out = df_out.join(oh_product_category_name)\n",
        "    df_out = df_out.join(oh_customer_city,lsuffix='_left_customer', rsuffix='_right_customer')\n",
        "    df_out = df_out.join(oh_customer_state,lsuffix='_left_customer', rsuffix='_right_customer')\n",
        "    df_out = df_out.join(oh_seller_city,lsuffix='_left_seller', rsuffix='_right_seller')\n",
        "    df_out = df_out.join(oh_seller_state,lsuffix='_left_seller', rsuffix='_right_seller')\n",
        "\n",
        "    return df_out"
      ],
      "execution_count": 22,
      "outputs": []
    },
    {
      "cell_type": "code",
      "metadata": {
        "id": "t1hZbXFiPeut",
        "colab_type": "code",
        "colab": {}
      },
      "source": [
        "def split_train_test_year(df):\n",
        "    df_train = df[df['order_purchase_timestamp'].str.contains('2018')].drop(columns=['order_purchase_timestamp'])\n",
        "    X_train = df_train.drop(columns=['price'])\n",
        "    Y_train = df_train['price'].values.ravel()\n",
        "\n",
        "    df_test = df[~df['order_purchase_timestamp'].str.contains('2018')].drop(columns=['order_purchase_timestamp'])\n",
        "    X_test = df_test.drop(columns=['price'])\n",
        "    Y_test = df_test['price'].values.ravel()\n",
        "\n",
        "    return (X_train, X_test, Y_train, Y_test)"
      ],
      "execution_count": 23,
      "outputs": []
    },
    {
      "cell_type": "code",
      "metadata": {
        "id": "59d-uY_pPeuw",
        "colab_type": "code",
        "colab": {}
      },
      "source": [
        "def split_train_test_normal(df):\n",
        "    X = df.drop(columns=['price', 'order_purchase_timestamp'])\n",
        "    Y = df['price'].values.ravel()\n",
        "    \n",
        "    X_train, X_test, Y_train, Y_test = train_test_split(X, Y, test_size=0.33, random_state=42)\n",
        "    \n",
        "    return (X_train, X_test, Y_train, Y_test)"
      ],
      "execution_count": 24,
      "outputs": []
    },
    {
      "cell_type": "code",
      "metadata": {
        "id": "7UXhEy61Peuz",
        "colab_type": "code",
        "colab": {}
      },
      "source": [
        "def get_independent_states(df):\n",
        "    df_list = []\n",
        "    \n",
        "    uf_list = ['AC', 'AM', 'AP', 'MA', 'PA', 'PI', 'RO', 'RR', 'TO', 'AL', 'BA', 'CE', 'PB', 'PE', 'RN', \n",
        "               'SE', 'DF', 'GO', 'MS', 'MT', 'MG', 'ES', 'RJ', 'RS', 'SP', 'SC', 'PR']\n",
        "    \n",
        "    for i in range(0,len(uf_list)):\n",
        "        df_list.append(df[df['customer_state'] == uf_list[i]])\n",
        "    \n",
        "    return df_list"
      ],
      "execution_count": 25,
      "outputs": []
    },
    {
      "cell_type": "code",
      "metadata": {
        "id": "iZKKMqUoPeu2",
        "colab_type": "code",
        "colab": {}
      },
      "source": [
        "def get_states(df):\n",
        "    \n",
        "    df_list = []\n",
        "    \n",
        "    # N\n",
        "    df_list.append(df[\n",
        "                        (df['customer_state'] == 'AC') |\n",
        "                        (df['customer_state'] == 'AM') |\n",
        "                        (df['customer_state'] == 'AP') |\n",
        "                        (df['customer_state'] == 'MA') |\n",
        "                        (df['customer_state'] == 'PA') |\n",
        "                        (df['customer_state'] == 'PI') |\n",
        "                        (df['customer_state'] == 'RO') |\n",
        "                        (df['customer_state'] == 'RR') |\n",
        "                        (df['customer_state'] == 'TO')\n",
        "                     ]\n",
        "                   )\n",
        "  \n",
        "    # NE\n",
        "    df_list.append(df[\n",
        "                        (df['customer_state'] == 'AL') |\n",
        "                        (df['customer_state'] == 'BA') |\n",
        "                        (df['customer_state'] == 'CE') |\n",
        "                        (df['customer_state'] == 'PB') |\n",
        "                        (df['customer_state'] == 'PE') |\n",
        "                        (df['customer_state'] == 'RN') |\n",
        "                        (df['customer_state'] == 'SE')\n",
        "                     ]\n",
        "                   )\n",
        "\n",
        "    # CO\n",
        "    df_list.append(df[\n",
        "                        (df['customer_state'] == 'DF') |\n",
        "                        (df['customer_state'] == 'GO') |\n",
        "                        (df['customer_state'] == 'MS') |\n",
        "                        (df['customer_state'] == 'MT')\n",
        "                     ]\n",
        "                   )\n",
        "\n",
        "    # MG-ES\n",
        "    df_list.append(df[\n",
        "                        (df['customer_state'] == 'MG') |\n",
        "                        (df['customer_state'] == 'ES')\n",
        "                     ]\n",
        "                   )\n",
        "    \n",
        "    df_list.append(df[df['customer_state'] == 'RJ'])\n",
        "    df_list.append(df[df['customer_state'] == 'SP'])\n",
        "    df_list.append(df[df['customer_state'] == 'RS'])\n",
        "    df_list.append(df[df['customer_state'] == 'SC'])\n",
        "    df_list.append(df[df['customer_state'] == 'PR'])\n",
        "\n",
        "    return df_list"
      ],
      "execution_count": 26,
      "outputs": []
    },
    {
      "cell_type": "code",
      "metadata": {
        "id": "PR8QYIXUPeu5",
        "colab_type": "code",
        "colab": {}
      },
      "source": [
        "def get_product_categories(df):\n",
        "    df_exclusion = ['artes_e_artesanato', 'artigos_de_festas', 'casa_conforto_2', 'cds_dvds_musicais', \n",
        "                    'cine_foto', 'dvds_blu_ray', 'fashion_esporte', 'fashion_roupa_feminina',\n",
        "                    'fashion_roupa_infanto_juvenil', 'flores', 'fraldas_higiene', 'la_cuisine',\n",
        "                    'livros_importados', 'moveis_colchao_e_estofado', 'musica', 'pc_gamer',\n",
        "                    'portateis_casa_forno_e_cafe', 'portateis_cozinha_e_preparadores_de_alimentos', \n",
        "                    'seguros_e_servicos', 'tablets_impressao_imagem']\n",
        "    \n",
        "    df_out = df[~df['product_category_name'].isin(df_exclusion)]\n",
        "\n",
        "    return df_out"
      ],
      "execution_count": 27,
      "outputs": []
    },
    {
      "cell_type": "code",
      "metadata": {
        "id": "Avfn7NYbPeu8",
        "colab_type": "code",
        "colab": {}
      },
      "source": [
        "def get_independent_categories(df):\n",
        "    df_list = []\n",
        "    df_valid = get_product_categories(df)\n",
        "    \n",
        "    for product in df_valid['product_category_name'].unique():\n",
        "        df_list.append(df_valid[df_valid['product_category_name'] == product])\n",
        "        \n",
        "        \n",
        "    return df_list"
      ],
      "execution_count": 28,
      "outputs": []
    },
    {
      "cell_type": "markdown",
      "metadata": {
        "id": "pWmWQsNEPeu_",
        "colab_type": "text"
      },
      "source": [
        "# Algoritmos"
      ]
    },
    {
      "cell_type": "code",
      "metadata": {
        "id": "9uvHYMXVPevA",
        "colab_type": "code",
        "colab": {}
      },
      "source": [
        "from sklearn.tree import DecisionTreeRegressor\n",
        "from sklearn.metrics import mean_squared_error\n",
        "from sklearn.metrics import r2_score\n",
        "from sklearn.model_selection import GridSearchCV\n",
        "from sklearn.model_selection import train_test_split\n",
        "from sklearn.ensemble import RandomForestRegressor\n",
        "from sklearn.svm import SVR"
      ],
      "execution_count": 29,
      "outputs": []
    },
    {
      "cell_type": "markdown",
      "metadata": {
        "id": "gZzgP3xPPevD",
        "colab_type": "text"
      },
      "source": [
        "### Árvore de Regressão - by year"
      ]
    },
    {
      "cell_type": "markdown",
      "metadata": {
        "id": "x7O84WEBPevD",
        "colab_type": "text"
      },
      "source": [
        "##### Dataset normal"
      ]
    },
    {
      "cell_type": "code",
      "metadata": {
        "id": "P5eyemdaPevE",
        "colab_type": "code",
        "colab": {}
      },
      "source": [
        "df_tree = get_dummies(df_final)"
      ],
      "execution_count": 30,
      "outputs": []
    },
    {
      "cell_type": "code",
      "metadata": {
        "id": "cg4DCqI8PevI",
        "colab_type": "code",
        "colab": {}
      },
      "source": [
        "X_train, X_test, Y_train, Y_test = split_train_test_year(df_tree)"
      ],
      "execution_count": 31,
      "outputs": []
    },
    {
      "cell_type": "code",
      "metadata": {
        "id": "AOeimZm-RgBK",
        "colab_type": "code",
        "colab": {}
      },
      "source": [
        "# Grid Search\n",
        "# param_grid = [{'max_depth': [5,10,15,20], \n",
        "#                'splitter': ['best', 'random'],\n",
        "#                'criterion': ['mse', 'friedman_mse', 'mae']\n",
        "#                }\n",
        "#              ]\n",
        "\n",
        "# clf = GridSearchCV(DecisionTreeRegressor(), param_grid)\n",
        "# clf.fit(X_train, Y_train)"
      ],
      "execution_count": 32,
      "outputs": []
    },
    {
      "cell_type": "code",
      "metadata": {
        "id": "tbO2E-0bPevL",
        "colab_type": "code",
        "colab": {}
      },
      "source": [
        "tree_reg = DecisionTreeRegressor(max_depth=15, random_state=42)\n",
        "tree_reg.fit(X_train, Y_train)\n",
        "Y_pred = tree_reg.predict(X_test)"
      ],
      "execution_count": 33,
      "outputs": []
    },
    {
      "cell_type": "code",
      "metadata": {
        "id": "zarpqJefPevO",
        "colab_type": "code",
        "colab": {
          "base_uri": "https://localhost:8080/",
          "height": 35
        },
        "outputId": "bf80b709-d78b-47fc-93a3-420aad701752"
      },
      "source": [
        "mean_squared_error(Y_test, Y_pred)"
      ],
      "execution_count": 34,
      "outputs": [
        {
          "output_type": "execute_result",
          "data": {
            "text/plain": [
              "26266.09902778076"
            ]
          },
          "metadata": {
            "tags": []
          },
          "execution_count": 34
        }
      ]
    },
    {
      "cell_type": "code",
      "metadata": {
        "id": "Q_vDuRgzPevR",
        "colab_type": "code",
        "colab": {
          "base_uri": "https://localhost:8080/",
          "height": 35
        },
        "outputId": "bce262ff-2076-44be-cdb3-40ce1f05b609"
      },
      "source": [
        "r2_score(Y_test, Y_pred)"
      ],
      "execution_count": 35,
      "outputs": [
        {
          "output_type": "execute_result",
          "data": {
            "text/plain": [
              "0.23069981909099202"
            ]
          },
          "metadata": {
            "tags": []
          },
          "execution_count": 35
        }
      ]
    },
    {
      "cell_type": "markdown",
      "metadata": {
        "id": "dKFcZlwLPevW",
        "colab_type": "text"
      },
      "source": [
        "##### Dataset States - não agrupados"
      ]
    },
    {
      "cell_type": "code",
      "metadata": {
        "id": "Dg1KgW9RPevX",
        "colab_type": "code",
        "colab": {}
      },
      "source": [
        "df_states_list = get_independent_states(df_final)"
      ],
      "execution_count": 36,
      "outputs": []
    },
    {
      "cell_type": "code",
      "metadata": {
        "id": "hpnEoPBxPevZ",
        "colab_type": "code",
        "colab": {}
      },
      "source": [
        "Y_pred_list = []\n",
        "Y_test_list = []\n",
        "rmse_list   = []\n",
        "r2_list     = []\n",
        "\n",
        "for df in df_states_list:\n",
        "    df = get_dummies(df)\n",
        "    X_train, X_test, Y_train, Y_test = split_train_test_year(df)\n",
        "    reg = DecisionTreeRegressor(max_depth=15, random_state=42)\n",
        "    reg.fit(X_train, Y_train)\n",
        "    Y_pred = reg.predict(X_test)\n",
        "\n",
        "    Y_pred_list.append(Y_pred)\n",
        "    Y_test_list.append(Y_test)\n",
        "    rmse_list.append(mean_squared_error(Y_test, Y_pred))\n",
        "    r2_list.append(r2_score(Y_test, Y_pred))"
      ],
      "execution_count": 61,
      "outputs": []
    },
    {
      "cell_type": "code",
      "metadata": {
        "id": "TvKCBpk1htJt",
        "colab_type": "code",
        "colab": {
          "base_uri": "https://localhost:8080/",
          "height": 35
        },
        "outputId": "a7fb3d73-671e-4fae-a2f7-e0d3d1483e24"
      },
      "source": [
        "Y_pred_list_final = []\n",
        "Y_test_list_final = []\n",
        "\n",
        "for i in range(0, len(Y_pred_list)):\n",
        "    Y_pred_list_final += list(Y_pred_list[i])\n",
        "    Y_test_list_final += list(Y_test_list[i])\n",
        "\n",
        "r2_score(Y_test_list_final, Y_pred_list_final)"
      ],
      "execution_count": 69,
      "outputs": [
        {
          "output_type": "execute_result",
          "data": {
            "text/plain": [
              "-0.027392120189034586"
            ]
          },
          "metadata": {
            "tags": []
          },
          "execution_count": 69
        }
      ]
    },
    {
      "cell_type": "code",
      "metadata": {
        "id": "34TQqe3ohhac",
        "colab_type": "code",
        "colab": {
          "base_uri": "https://localhost:8080/",
          "height": 490
        },
        "outputId": "7de149a2-286f-4d44-b438-40a4449f5b4b"
      },
      "source": [
        "r2_list"
      ],
      "execution_count": 46,
      "outputs": [
        {
          "output_type": "execute_result",
          "data": {
            "text/plain": [
              "[-0.2257711436506442,\n",
              " 0.021806310344953395,\n",
              " -0.5206555409984717,\n",
              " 0.045903891778715566,\n",
              " -0.27376177116272205,\n",
              " -0.030985225871441147,\n",
              " -0.9427008068985254,\n",
              " 0.458201319531374,\n",
              " -0.01934352441606091,\n",
              " -0.21312572169596344,\n",
              " -0.02741692406647611,\n",
              " -0.06333292573185112,\n",
              " -4.007195299059967,\n",
              " -0.02690049837539532,\n",
              " -0.21815254831268827,\n",
              " -2.4377800439340653,\n",
              " 0.1911970127916257,\n",
              " -0.4801989839393268,\n",
              " 0.053879189188057786,\n",
              " 0.049038318330354214,\n",
              " -0.033628268453292254,\n",
              " -0.08073828603377642,\n",
              " 0.07572794908966074,\n",
              " 0.11445726753884766,\n",
              " 0.10003904837299438,\n",
              " -0.20084445951189234,\n",
              " -0.32593030667065115]"
            ]
          },
          "metadata": {
            "tags": []
          },
          "execution_count": 46
        }
      ]
    },
    {
      "cell_type": "markdown",
      "metadata": {
        "id": "sa29D9KYPevd",
        "colab_type": "text"
      },
      "source": [
        "##### Dataset States - agrupados"
      ]
    },
    {
      "cell_type": "code",
      "metadata": {
        "id": "0wFQsnV2Pevd",
        "colab_type": "code",
        "colab": {}
      },
      "source": [
        "df_states_list = get_states(df_final)"
      ],
      "execution_count": 37,
      "outputs": []
    },
    {
      "cell_type": "code",
      "metadata": {
        "id": "9Zv68WLJPevh",
        "colab_type": "code",
        "colab": {}
      },
      "source": [
        "Y_pred_list = []\n",
        "Y_test_list = []\n",
        "rmse_list   = []\n",
        "r2_list     = []\n",
        "\n",
        "for df in df_states_list:\n",
        "    df = get_dummies(df)\n",
        "    X_train, X_test, Y_train, Y_test = split_train_test_year(df)\n",
        "    reg = DecisionTreeRegressor(max_depth=15, random_state=42)\n",
        "    reg.fit(X_train, Y_train)\n",
        "    Y_pred = reg.predict(X_test)\n",
        "\n",
        "    Y_pred_list.append(Y_pred)\n",
        "    Y_test_list.append(Y_test)\n",
        "    rmse_list.append(mean_squared_error(Y_test, Y_pred))\n",
        "    r2_list.append(r2_score(Y_test, Y_pred))"
      ],
      "execution_count": 70,
      "outputs": []
    },
    {
      "cell_type": "code",
      "metadata": {
        "id": "LE9p4NhxkSJl",
        "colab_type": "code",
        "colab": {
          "base_uri": "https://localhost:8080/",
          "height": 35
        },
        "outputId": "2dbe8a3c-c6a4-4d06-a7f5-830757ed3a9e"
      },
      "source": [
        "Y_pred_list_final = []\n",
        "Y_test_list_final = []\n",
        "\n",
        "for i in range(0, len(Y_pred_list)):\n",
        "    Y_pred_list_final += list(Y_pred_list[i])\n",
        "    Y_test_list_final += list(Y_test_list[i])\n",
        "\n",
        "r2_score(Y_test_list_final, Y_pred_list_final)"
      ],
      "execution_count": 71,
      "outputs": [
        {
          "output_type": "execute_result",
          "data": {
            "text/plain": [
              "-0.027392120189034586"
            ]
          },
          "metadata": {
            "tags": []
          },
          "execution_count": 71
        }
      ]
    },
    {
      "cell_type": "code",
      "metadata": {
        "id": "a4bZGKI9kYDM",
        "colab_type": "code",
        "colab": {
          "base_uri": "https://localhost:8080/",
          "height": 490
        },
        "outputId": "e8db08de-c247-422a-fd76-85a2f33a5b12"
      },
      "source": [
        "r2_list"
      ],
      "execution_count": 72,
      "outputs": [
        {
          "output_type": "execute_result",
          "data": {
            "text/plain": [
              "[-0.2257711436506442,\n",
              " 0.021806310344953395,\n",
              " -0.5206555409984717,\n",
              " 0.045903891778715566,\n",
              " -0.27376177116272205,\n",
              " -0.030985225871441147,\n",
              " -0.9427008068985254,\n",
              " 0.458201319531374,\n",
              " -0.01934352441606091,\n",
              " -0.21312572169596344,\n",
              " -0.02741692406647611,\n",
              " -0.06333292573185112,\n",
              " -4.007195299059967,\n",
              " -0.02690049837539532,\n",
              " -0.21815254831268827,\n",
              " -2.4377800439340653,\n",
              " 0.1911970127916257,\n",
              " -0.4801989839393268,\n",
              " 0.053879189188057786,\n",
              " 0.049038318330354214,\n",
              " -0.033628268453292254,\n",
              " -0.08073828603377642,\n",
              " 0.07572794908966074,\n",
              " 0.11445726753884766,\n",
              " 0.10003904837299438,\n",
              " -0.20084445951189234,\n",
              " -0.32593030667065115]"
            ]
          },
          "metadata": {
            "tags": []
          },
          "execution_count": 72
        }
      ]
    },
    {
      "cell_type": "markdown",
      "metadata": {
        "id": "2Xtjr_RbPevk",
        "colab_type": "text"
      },
      "source": [
        "##### Dataset product categories"
      ]
    },
    {
      "cell_type": "code",
      "metadata": {
        "id": "yFJ1SCcxPevl",
        "colab_type": "code",
        "colab": {}
      },
      "source": [
        "df_cat_list = get_independent_categories(df_final)"
      ],
      "execution_count": 73,
      "outputs": []
    },
    {
      "cell_type": "code",
      "metadata": {
        "id": "xe7912BoPevp",
        "colab_type": "code",
        "colab": {}
      },
      "source": [
        "Y_pred_list = []\n",
        "Y_test_list = []\n",
        "rmse_list   = []\n",
        "r2_list     = []\n",
        "\n",
        "for df in df_cat_list:\n",
        "    df = get_dummies(df)\n",
        "    X_train, X_test, Y_train, Y_test = split_train_test_year(df)\n",
        "    reg = DecisionTreeRegressor(max_depth=15, random_state=42)\n",
        "    reg.fit(X_train, Y_train)\n",
        "    Y_pred = reg.predict(X_test)\n",
        "\n",
        "    Y_pred_list.append(Y_pred)\n",
        "    Y_test_list.append(Y_test)\n",
        "    rmse_list.append(mean_squared_error(Y_test, Y_pred))\n",
        "    r2_list.append(r2_score(Y_test, Y_pred))"
      ],
      "execution_count": 76,
      "outputs": []
    },
    {
      "cell_type": "code",
      "metadata": {
        "id": "L7miNHUCkjvw",
        "colab_type": "code",
        "colab": {
          "base_uri": "https://localhost:8080/",
          "height": 35
        },
        "outputId": "e12b635f-3e96-4bc7-fa3a-04eb6f5c4e8e"
      },
      "source": [
        "Y_pred_list_final = []\n",
        "Y_test_list_final = []\n",
        "\n",
        "for i in range(0, len(Y_pred_list)):\n",
        "    Y_pred_list_final += list(Y_pred_list[i])\n",
        "    Y_test_list_final += list(Y_test_list[i])\n",
        "\n",
        "r2_score(Y_test_list_final, Y_pred_list_final)"
      ],
      "execution_count": 77,
      "outputs": [
        {
          "output_type": "execute_result",
          "data": {
            "text/plain": [
              "0.17026422951503184"
            ]
          },
          "metadata": {
            "tags": []
          },
          "execution_count": 77
        }
      ]
    },
    {
      "cell_type": "code",
      "metadata": {
        "id": "hkqvxhBLkuZd",
        "colab_type": "code",
        "colab": {
          "base_uri": "https://localhost:8080/",
          "height": 945
        },
        "outputId": "0c2d2be9-32bd-44ee-9b6b-1e47cc22d286"
      },
      "source": [
        "r2_list"
      ],
      "execution_count": 78,
      "outputs": [
        {
          "output_type": "execute_result",
          "data": {
            "text/plain": [
              "[0.21112342461237832,\n",
              " -0.0020514094407861894,\n",
              " 0.11003914099530321,\n",
              " 0.15918214845685974,\n",
              " 0.2785104617935915,\n",
              " -0.02428998096870094,\n",
              " -0.3494953261979721,\n",
              " 0.2702367134417216,\n",
              " -0.6777791849624095,\n",
              " 0.1582184433546907,\n",
              " 0.19183705815898955,\n",
              " -0.4080420396038287,\n",
              " -0.6178541832340856,\n",
              " -0.3214928867239917,\n",
              " 0.10051315328751598,\n",
              " -0.1642703381596966,\n",
              " 0.008976742732466847,\n",
              " -0.11523587367702648,\n",
              " -0.0336565789746881,\n",
              " 0.18785292168792467,\n",
              " 0.36685858378064173,\n",
              " -0.37907050924784813,\n",
              " 0.37414466000998825,\n",
              " -0.21806543105269616,\n",
              " 0.0013410105796002325,\n",
              " 0.42038919340452396,\n",
              " 0.26541125262254883,\n",
              " 0.12808439704845087,\n",
              " -0.06544455054912413,\n",
              " -0.005471472555398371,\n",
              " -0.10488797007773631,\n",
              " 0.5598719673735948,\n",
              " -0.10757903370606225,\n",
              " 0.6963833653604905,\n",
              " 0.35593444250656603,\n",
              " 0.06958297400105518,\n",
              " 0.12532496452817754,\n",
              " -0.02685110361128995,\n",
              " -0.680439606322955,\n",
              " -0.23363106435286873,\n",
              " -3.040617879819478,\n",
              " 0.6316645430372783,\n",
              " -1.622599852344894,\n",
              " -1.1995516914982378,\n",
              " 0.1279608971582321,\n",
              " 0.5833158490759749,\n",
              " 0.00808690829517078,\n",
              " 0.4359314882898241,\n",
              " -0.7231462955087644,\n",
              " -2.107651939955637,\n",
              " 0.1827505150046792,\n",
              " -0.7419646137583606,\n",
              " -1.8213707484730421]"
            ]
          },
          "metadata": {
            "tags": []
          },
          "execution_count": 78
        }
      ]
    },
    {
      "cell_type": "markdown",
      "metadata": {
        "id": "mJFtouqOPevu",
        "colab_type": "text"
      },
      "source": [
        "### Árvore de Regressão - train test split"
      ]
    },
    {
      "cell_type": "markdown",
      "metadata": {
        "id": "uVPCGFYWPevv",
        "colab_type": "text"
      },
      "source": [
        "##### Dataset normal"
      ]
    },
    {
      "cell_type": "code",
      "metadata": {
        "id": "bAkx-BAWPevw",
        "colab_type": "code",
        "colab": {}
      },
      "source": [
        "df_tree = get_dummies(df_final)"
      ],
      "execution_count": 79,
      "outputs": []
    },
    {
      "cell_type": "code",
      "metadata": {
        "id": "RpDEp_r9Pevz",
        "colab_type": "code",
        "colab": {}
      },
      "source": [
        "X_train, X_test, Y_train, Y_test = split_train_test_normal(df_tree)"
      ],
      "execution_count": 80,
      "outputs": []
    },
    {
      "cell_type": "code",
      "metadata": {
        "id": "AjvSVT6GPev3",
        "colab_type": "code",
        "colab": {}
      },
      "source": [
        "tree_reg = DecisionTreeRegressor(max_depth=15, random_state=42)\n",
        "tree_reg.fit(X_train, Y_train)\n",
        "Y_pred = tree_reg.predict(X_test)"
      ],
      "execution_count": 81,
      "outputs": []
    },
    {
      "cell_type": "code",
      "metadata": {
        "id": "13sCQwhpPev5",
        "colab_type": "code",
        "colab": {
          "base_uri": "https://localhost:8080/",
          "height": 35
        },
        "outputId": "ad01064f-ac42-4c4a-ba70-52abcea5c2c9"
      },
      "source": [
        "mean_squared_error(Y_test, Y_pred)"
      ],
      "execution_count": 82,
      "outputs": [
        {
          "output_type": "execute_result",
          "data": {
            "text/plain": [
              "20782.802018860028"
            ]
          },
          "metadata": {
            "tags": []
          },
          "execution_count": 82
        }
      ]
    },
    {
      "cell_type": "code",
      "metadata": {
        "id": "jWg_YWiXPev-",
        "colab_type": "code",
        "colab": {
          "base_uri": "https://localhost:8080/",
          "height": 35
        },
        "outputId": "52254ca3-07da-45cb-a802-dd64ac1c167c"
      },
      "source": [
        "r2_score(Y_test, Y_pred)"
      ],
      "execution_count": 83,
      "outputs": [
        {
          "output_type": "execute_result",
          "data": {
            "text/plain": [
              "0.29811653486114287"
            ]
          },
          "metadata": {
            "tags": []
          },
          "execution_count": 83
        }
      ]
    },
    {
      "cell_type": "markdown",
      "metadata": {
        "id": "-8bDrBTVPewB",
        "colab_type": "text"
      },
      "source": [
        "##### Dataset States - não agrupados"
      ]
    },
    {
      "cell_type": "code",
      "metadata": {
        "id": "DaFuHfZYPewC",
        "colab_type": "code",
        "colab": {}
      },
      "source": [
        "df_states_list = get_independent_states(df_final)"
      ],
      "execution_count": 84,
      "outputs": []
    },
    {
      "cell_type": "code",
      "metadata": {
        "id": "3cnM3pb3PewG",
        "colab_type": "code",
        "colab": {}
      },
      "source": [
        "Y_pred_list = []\n",
        "Y_test_list = []\n",
        "rmse_list   = []\n",
        "r2_list     = []\n",
        "\n",
        "for df in df_states_list:\n",
        "    \n",
        "    df = get_dummies(df)\n",
        "\n",
        "    X_train, X_test, Y_train, Y_test = split_train_test_normal(df)\n",
        "    \n",
        "    \n",
        "    X_train, X_test, Y_train, Y_test = split_train_test_year(df)\n",
        "    reg = DecisionTreeRegressor(max_depth=15, random_state=42)\n",
        "    reg.fit(X_train, Y_train)\n",
        "    Y_pred = reg.predict(X_test)\n",
        "\n",
        "    Y_pred_list.append(Y_pred)\n",
        "    Y_test_list.append(Y_test)\n",
        "    rmse_list.append(mean_squared_error(Y_test, Y_pred))\n",
        "    r2_list.append(r2_score(Y_test, Y_pred))"
      ],
      "execution_count": 87,
      "outputs": []
    },
    {
      "cell_type": "code",
      "metadata": {
        "id": "bgwKqL2ylW6D",
        "colab_type": "code",
        "colab": {
          "base_uri": "https://localhost:8080/",
          "height": 35
        },
        "outputId": "6a355b95-0816-4399-ee6e-21988484ff5f"
      },
      "source": [
        "Y_pred_list_final = []\n",
        "Y_test_list_final = []\n",
        "\n",
        "for i in range(0, len(Y_pred_list)):\n",
        "    Y_pred_list_final += list(Y_pred_list[i])\n",
        "    Y_test_list_final += list(Y_test_list[i])\n",
        "\n",
        "r2_score(Y_test_list_final, Y_pred_list_final)"
      ],
      "execution_count": 88,
      "outputs": [
        {
          "output_type": "execute_result",
          "data": {
            "text/plain": [
              "-0.027392120189034586"
            ]
          },
          "metadata": {
            "tags": []
          },
          "execution_count": 88
        }
      ]
    },
    {
      "cell_type": "code",
      "metadata": {
        "id": "beedmQEmlch7",
        "colab_type": "code",
        "colab": {
          "base_uri": "https://localhost:8080/",
          "height": 490
        },
        "outputId": "8328de15-f82e-42f0-ed74-0226e9515ced"
      },
      "source": [
        "r2_list"
      ],
      "execution_count": 89,
      "outputs": [
        {
          "output_type": "execute_result",
          "data": {
            "text/plain": [
              "[-0.2257711436506442,\n",
              " 0.021806310344953395,\n",
              " -0.5206555409984717,\n",
              " 0.045903891778715566,\n",
              " -0.27376177116272205,\n",
              " -0.030985225871441147,\n",
              " -0.9427008068985254,\n",
              " 0.458201319531374,\n",
              " -0.01934352441606091,\n",
              " -0.21312572169596344,\n",
              " -0.02741692406647611,\n",
              " -0.06333292573185112,\n",
              " -4.007195299059967,\n",
              " -0.02690049837539532,\n",
              " -0.21815254831268827,\n",
              " -2.4377800439340653,\n",
              " 0.1911970127916257,\n",
              " -0.4801989839393268,\n",
              " 0.053879189188057786,\n",
              " 0.049038318330354214,\n",
              " -0.033628268453292254,\n",
              " -0.08073828603377642,\n",
              " 0.07572794908966074,\n",
              " 0.11445726753884766,\n",
              " 0.10003904837299438,\n",
              " -0.20084445951189234,\n",
              " -0.32593030667065115]"
            ]
          },
          "metadata": {
            "tags": []
          },
          "execution_count": 89
        }
      ]
    },
    {
      "cell_type": "markdown",
      "metadata": {
        "id": "-UQDvHKAPewK",
        "colab_type": "text"
      },
      "source": [
        "##### Dataset States - agrupados"
      ]
    },
    {
      "cell_type": "code",
      "metadata": {
        "id": "HqYpROv_PewL",
        "colab_type": "code",
        "colab": {}
      },
      "source": [
        "df_states_list = get_states(df_final)"
      ],
      "execution_count": 90,
      "outputs": []
    },
    {
      "cell_type": "code",
      "metadata": {
        "id": "AAzRRZOmPewN",
        "colab_type": "code",
        "colab": {}
      },
      "source": [
        "Y_pred_list = []\n",
        "Y_test_list = []\n",
        "rmse_list   = []\n",
        "r2_list     = []\n",
        "\n",
        "for df in df_states_list:\n",
        "    \n",
        "    df = get_dummies(df)\n",
        "    \n",
        "    X_train, X_test, Y_train, Y_test = split_train_test_normal(df)\n",
        "    \n",
        "    \n",
        "    reg = DecisionTreeRegressor(max_depth=15, random_state=42)\n",
        "    reg.fit(X_train, Y_train)\n",
        "    Y_pred = reg.predict(X_test)\n",
        "\n",
        "    Y_pred_list.append(Y_pred)\n",
        "    Y_test_list.append(Y_test)\n",
        "    rmse_list.append(mean_squared_error(Y_test, Y_pred))\n",
        "    r2_list.append(r2_score(Y_test, Y_pred))"
      ],
      "execution_count": 94,
      "outputs": []
    },
    {
      "cell_type": "code",
      "metadata": {
        "id": "BfPv9bHDlu4T",
        "colab_type": "code",
        "colab": {
          "base_uri": "https://localhost:8080/",
          "height": 35
        },
        "outputId": "00502e0b-8160-4c99-aae3-3e052daef4f5"
      },
      "source": [
        "Y_pred_list_final = []\n",
        "Y_test_list_final = []\n",
        "\n",
        "for i in range(0, len(Y_pred_list)):\n",
        "    Y_pred_list_final += list(Y_pred_list[i])\n",
        "    Y_test_list_final += list(Y_test_list[i])\n",
        "\n",
        "r2_score(Y_test_list_final, Y_pred_list_final)"
      ],
      "execution_count": 95,
      "outputs": [
        {
          "output_type": "execute_result",
          "data": {
            "text/plain": [
              "0.19655356346310038"
            ]
          },
          "metadata": {
            "tags": []
          },
          "execution_count": 95
        }
      ]
    },
    {
      "cell_type": "code",
      "metadata": {
        "id": "7-TKPoT-mBT_",
        "colab_type": "code",
        "colab": {
          "base_uri": "https://localhost:8080/",
          "height": 175
        },
        "outputId": "4d1811cb-e4bd-45e7-c1d7-5034eb279c0c"
      },
      "source": [
        "r2_list"
      ],
      "execution_count": 96,
      "outputs": [
        {
          "output_type": "execute_result",
          "data": {
            "text/plain": [
              "[0.02835264731856646,\n",
              " 0.2322309519822463,\n",
              " -0.10703559400482554,\n",
              " 0.24346861791342045,\n",
              " 0.2684562607296531,\n",
              " 0.25904105892968654,\n",
              " 0.30983099708809103,\n",
              " 0.2453662242160548,\n",
              " -0.016915341529815997]"
            ]
          },
          "metadata": {
            "tags": []
          },
          "execution_count": 96
        }
      ]
    },
    {
      "cell_type": "markdown",
      "metadata": {
        "id": "NdjQLxgzPewQ",
        "colab_type": "text"
      },
      "source": [
        "##### Dataset product categories\n"
      ]
    },
    {
      "cell_type": "code",
      "metadata": {
        "id": "8P78no0yPewR",
        "colab_type": "code",
        "colab": {}
      },
      "source": [
        "df_cat_list = get_independent_categories(df_final)"
      ],
      "execution_count": null,
      "outputs": []
    },
    {
      "cell_type": "code",
      "metadata": {
        "id": "bcFrddZ1PewY",
        "colab_type": "code",
        "colab": {}
      },
      "source": [
        "Y_pred_list = []\n",
        "Y_test_list = []\n",
        "rmse_list   = []\n",
        "r2_list     = []\n",
        "\n",
        "for df in df_cat_list:\n",
        "    df = get_dummies(df)\n",
        "\n",
        "    X_train, X_test, Y_train, Y_test = split_train_test_normal(df)\n",
        "    \n",
        "    reg = DecisionTreeRegressor(max_depth=15, random_state=42)\n",
        "    reg.fit(X_train, Y_train)\n",
        "    Y_pred = reg.predict(X_test)\n",
        "\n",
        "    Y_pred_list.append(Y_pred)\n",
        "    Y_test_list.append(Y_test)\n",
        "    rmse_list.append(mean_squared_error(Y_test, Y_pred))\n",
        "    r2_list.append(r2_score(Y_test, Y_pred))"
      ],
      "execution_count": 100,
      "outputs": []
    },
    {
      "cell_type": "code",
      "metadata": {
        "id": "Vd_8CsHDmNtf",
        "colab_type": "code",
        "colab": {
          "base_uri": "https://localhost:8080/",
          "height": 35
        },
        "outputId": "e6b8df38-8c87-4294-ceb8-a7d984f0ac94"
      },
      "source": [
        "Y_pred_list_final = []\n",
        "Y_test_list_final = []\n",
        "\n",
        "for i in range(0, len(Y_pred_list)):\n",
        "    Y_pred_list_final += list(Y_pred_list[i])\n",
        "    Y_test_list_final += list(Y_test_list[i])\n",
        "\n",
        "r2_score(Y_test_list_final, Y_pred_list_final)"
      ],
      "execution_count": 101,
      "outputs": [
        {
          "output_type": "execute_result",
          "data": {
            "text/plain": [
              "0.3801607940784507"
            ]
          },
          "metadata": {
            "tags": []
          },
          "execution_count": 101
        }
      ]
    },
    {
      "cell_type": "code",
      "metadata": {
        "id": "5510MSKMmP1-",
        "colab_type": "code",
        "colab": {
          "base_uri": "https://localhost:8080/",
          "height": 945
        },
        "outputId": "6d4d8087-0482-404f-87a2-1a40a8ceb3ce"
      },
      "source": [
        "r2_list"
      ],
      "execution_count": 102,
      "outputs": [
        {
          "output_type": "execute_result",
          "data": {
            "text/plain": [
              "[0.20234307125725814,\n",
              " 0.3581823821260146,\n",
              " 0.15711596415317663,\n",
              " 0.5282538014179878,\n",
              " 0.2946207916398884,\n",
              " 0.13294365450511403,\n",
              " 0.3762683832018495,\n",
              " 0.388539253585778,\n",
              " -0.7530628339249614,\n",
              " 0.2271035164461962,\n",
              " 0.07553480817770242,\n",
              " 0.30742114600666837,\n",
              " -0.5597324457421238,\n",
              " 0.4146879397935297,\n",
              " 0.4023129368081929,\n",
              " 0.2248074120892215,\n",
              " 0.3242998065884922,\n",
              " 0.3580851074331922,\n",
              " 0.16786363858094933,\n",
              " 0.7351185947237772,\n",
              " 0.6392173467584268,\n",
              " 0.4917410798411891,\n",
              " 0.5777325490974082,\n",
              " 0.21027603342151624,\n",
              " 0.04369723145561166,\n",
              " 0.7954820843463541,\n",
              " 0.45086438577244126,\n",
              " 0.3651089926134068,\n",
              " 0.497960909781507,\n",
              " 0.21167143265327648,\n",
              " 0.27311999029312617,\n",
              " 0.597144042769916,\n",
              " 0.49668076042193954,\n",
              " 0.13658291653174726,\n",
              " 0.23876013950136032,\n",
              " 0.4764810832986358,\n",
              " 0.26102108591175954,\n",
              " -0.024570927764037576,\n",
              " 0.3465930231430526,\n",
              " 0.22227176143965477,\n",
              " -0.044185653198842934,\n",
              " 0.6556252372998246,\n",
              " 0.41801438966197235,\n",
              " 0.3333452348148913,\n",
              " 0.7637852125407517,\n",
              " 0.5608525066851249,\n",
              " 0.40448589222416365,\n",
              " 0.5263720922371089,\n",
              " 0.5618122431344221,\n",
              " 0.11661446247853213,\n",
              " 0.6899776448380397,\n",
              " 0.7584354659720196,\n",
              " -0.23162747559266306]"
            ]
          },
          "metadata": {
            "tags": []
          },
          "execution_count": 102
        }
      ]
    },
    {
      "cell_type": "markdown",
      "metadata": {
        "id": "Gr95FbMQPewa",
        "colab_type": "text"
      },
      "source": [
        "### Random Forest - by year"
      ]
    },
    {
      "cell_type": "markdown",
      "metadata": {
        "id": "rNQz8lULPewb",
        "colab_type": "text"
      },
      "source": [
        "##### Dataset normal"
      ]
    },
    {
      "cell_type": "code",
      "metadata": {
        "id": "OB7L1BvKPewd",
        "colab_type": "code",
        "colab": {}
      },
      "source": [
        "random_tree = get_dummies(df_final)"
      ],
      "execution_count": 103,
      "outputs": []
    },
    {
      "cell_type": "code",
      "metadata": {
        "id": "hPOwhnvvPewh",
        "colab_type": "code",
        "colab": {}
      },
      "source": [
        "X_train, X_test, Y_train, Y_test = split_train_test_year(random_tree)"
      ],
      "execution_count": 104,
      "outputs": []
    },
    {
      "cell_type": "code",
      "metadata": {
        "id": "JrJrBXdWPewm",
        "colab_type": "code",
        "colab": {}
      },
      "source": [
        "random_forest = RandomForestRegressor(max_depth=15, random_state=42)\n",
        "random_forest.fit(X_train, Y_train)\n",
        "Y_pred = random_forest.predict(X_test)"
      ],
      "execution_count": null,
      "outputs": []
    },
    {
      "cell_type": "code",
      "metadata": {
        "id": "k6hWh12PPewr",
        "colab_type": "code",
        "colab": {}
      },
      "source": [
        "mean_squared_error(Y_test, Y_pred)"
      ],
      "execution_count": null,
      "outputs": []
    },
    {
      "cell_type": "code",
      "metadata": {
        "scrolled": true,
        "id": "mKaeEeU1Pewu",
        "colab_type": "code",
        "colab": {}
      },
      "source": [
        "r2_score(Y_test, Y_pred)"
      ],
      "execution_count": null,
      "outputs": []
    },
    {
      "cell_type": "markdown",
      "metadata": {
        "id": "jsu0gBx1Pewx",
        "colab_type": "text"
      },
      "source": [
        "##### Dataset States - não agrupados"
      ]
    },
    {
      "cell_type": "code",
      "metadata": {
        "id": "R_tNGrlsPewx",
        "colab_type": "code",
        "colab": {}
      },
      "source": [
        "df_states_list = get_independent_states(df_final)"
      ],
      "execution_count": null,
      "outputs": []
    },
    {
      "cell_type": "code",
      "metadata": {
        "id": "BaJZX2xlPew2",
        "colab_type": "code",
        "colab": {}
      },
      "source": [
        "Y_pred_list = []\n",
        "Y_test_list = []\n",
        "rmse_list   = []\n",
        "r2_list     = []\n",
        "\n",
        "for df in df_states_list:\n",
        "    df = get_dummies(df)\n",
        "    X_train, X_test, Y_train, Y_test = split_train_test_year(df)\n",
        "    reg = RandomForestRegressor(max_depth=15, random_state=42)\n",
        "    reg.fit(X_train, Y_train)\n",
        "    Y_pred = reg.predict(X_test)\n",
        "\n",
        "    Y_pred_list.append(Y_pred)\n",
        "    Y_test_list.append(Y_test)\n",
        "    rmse_list.append(mean_squared_error(Y_test, Y_pred))\n",
        "    r2_list.append(r2_score(Y_test, Y_pred))"
      ],
      "execution_count": null,
      "outputs": []
    },
    {
      "cell_type": "markdown",
      "metadata": {
        "id": "CkYN0qG_Pew5",
        "colab_type": "text"
      },
      "source": [
        "##### Dataset States - agrupados"
      ]
    },
    {
      "cell_type": "code",
      "metadata": {
        "id": "iisWOaifPew5",
        "colab_type": "code",
        "colab": {}
      },
      "source": [
        "df_states_list = get_states(df_final)"
      ],
      "execution_count": null,
      "outputs": []
    },
    {
      "cell_type": "code",
      "metadata": {
        "id": "8vfISxbNPew7",
        "colab_type": "code",
        "colab": {}
      },
      "source": [
        "Y_pred_list = []\n",
        "Y_test_list = []\n",
        "rmse_list   = []\n",
        "r2_list     = []\n",
        "\n",
        "for df in df_states_list:\n",
        "    df = get_dummies(df)\n",
        "    X_train, X_test, Y_train, Y_test = split_train_test_year(df)\n",
        "    reg = RandomForestRegressor(max_depth=15, random_state=42)\n",
        "    reg.fit(X_train, Y_train)\n",
        "    Y_pred = reg.predict(X_test)\n",
        "\n",
        "    Y_pred_list.append(Y_pred)\n",
        "    Y_test_list.append(Y_test)\n",
        "    rmse_list.append(mean_squared_error(Y_test, Y_pred))\n",
        "    r2_list.append(r2_score(Y_test, Y_pred))"
      ],
      "execution_count": null,
      "outputs": []
    },
    {
      "cell_type": "markdown",
      "metadata": {
        "id": "qA9WfLMyPew_",
        "colab_type": "text"
      },
      "source": [
        "##### Dataset product categories"
      ]
    },
    {
      "cell_type": "code",
      "metadata": {
        "id": "3gPmrhIMPew_",
        "colab_type": "code",
        "colab": {}
      },
      "source": [
        "df_cat_list = get_independent_categories(df_final)"
      ],
      "execution_count": null,
      "outputs": []
    },
    {
      "cell_type": "code",
      "metadata": {
        "id": "hcWPz51KPexB",
        "colab_type": "code",
        "colab": {}
      },
      "source": [
        "Y_pred_list = []\n",
        "Y_test_list = []\n",
        "rmse_list   = []\n",
        "r2_list     = []\n",
        "\n",
        "for df in df_states_list:\n",
        "    df = get_dummies(df)\n",
        "    X_train, X_test, Y_train, Y_test = split_train_test_year(df)\n",
        "    reg = RandomForestRegressor(max_depth=15, random_state=42)\n",
        "    reg.fit(X_train, Y_train)\n",
        "    Y_pred = reg.predict(X_test)\n",
        "\n",
        "    Y_pred_list.append(Y_pred)\n",
        "    Y_test_list.append(Y_test)\n",
        "    rmse_list.append(mean_squared_error(Y_test, Y_pred))\n",
        "    r2_list.append(r2_score(Y_test, Y_pred))"
      ],
      "execution_count": null,
      "outputs": []
    },
    {
      "cell_type": "markdown",
      "metadata": {
        "id": "Wx7VDJUFPexE",
        "colab_type": "text"
      },
      "source": [
        "### Random Forest - train test split"
      ]
    },
    {
      "cell_type": "markdown",
      "metadata": {
        "id": "SCCSK210PexE",
        "colab_type": "text"
      },
      "source": [
        "##### Dataset normal"
      ]
    },
    {
      "cell_type": "code",
      "metadata": {
        "id": "Pe7jUI2qPexF",
        "colab_type": "code",
        "colab": {}
      },
      "source": [
        "df_random = get_dummies(df_final)"
      ],
      "execution_count": 98,
      "outputs": []
    },
    {
      "cell_type": "code",
      "metadata": {
        "id": "k3v7LVpDPexH",
        "colab_type": "code",
        "colab": {}
      },
      "source": [
        "X_train, X_test, Y_train, Y_test = split_train_test_normal(df_random)"
      ],
      "execution_count": 99,
      "outputs": []
    },
    {
      "cell_type": "code",
      "metadata": {
        "id": "RPgYxjipPexJ",
        "colab_type": "code",
        "colab": {}
      },
      "source": [
        "tree_reg = RandomForestRegressor(max_depth=15, random_state=42)\n",
        "tree_reg.fit(X_train, Y_train)\n",
        "Y_pred = tree_reg.predict(X_test)"
      ],
      "execution_count": 100,
      "outputs": []
    },
    {
      "cell_type": "code",
      "metadata": {
        "id": "231xIkJ4PexL",
        "colab_type": "code",
        "colab": {
          "base_uri": "https://localhost:8080/",
          "height": 35
        },
        "outputId": "608f365b-3de2-4ac8-a886-ba73ee58642f"
      },
      "source": [
        "mean_squared_error(Y_test, Y_pred)"
      ],
      "execution_count": 101,
      "outputs": [
        {
          "output_type": "execute_result",
          "data": {
            "text/plain": [
              "16819.972108086487"
            ]
          },
          "metadata": {
            "tags": []
          },
          "execution_count": 101
        }
      ]
    },
    {
      "cell_type": "code",
      "metadata": {
        "scrolled": true,
        "id": "RZ-8SDLtPexN",
        "colab_type": "code",
        "colab": {
          "base_uri": "https://localhost:8080/",
          "height": 35
        },
        "outputId": "2d80d554-694b-47c7-c745-756dd849bf53"
      },
      "source": [
        "r2_score(Y_test, Y_pred)"
      ],
      "execution_count": 102,
      "outputs": [
        {
          "output_type": "execute_result",
          "data": {
            "text/plain": [
              "0.43195049945386366"
            ]
          },
          "metadata": {
            "tags": []
          },
          "execution_count": 102
        }
      ]
    },
    {
      "cell_type": "markdown",
      "metadata": {
        "id": "3qYcR6gUPexR",
        "colab_type": "text"
      },
      "source": [
        "##### Dataset States - não agrupados"
      ]
    },
    {
      "cell_type": "code",
      "metadata": {
        "id": "yb2fI0VGPexS",
        "colab_type": "code",
        "colab": {}
      },
      "source": [
        "df_states_list = get_independent_states(df_final)"
      ],
      "execution_count": null,
      "outputs": []
    },
    {
      "cell_type": "code",
      "metadata": {
        "id": "nX5vCTQ3PexU",
        "colab_type": "code",
        "colab": {}
      },
      "source": [
        "Y_pred_list = []\n",
        "Y_test_list = []\n",
        "rmse_list   = []\n",
        "r2_list     = []\n",
        "\n",
        "for df in df_states_list:\n",
        "    df = get_dummies(df)\n",
        "    X_train, X_test, Y_train, Y_test = split_train_test_year(df)\n",
        "    reg = RandomForestRegressor(max_depth=15, random_state=42)\n",
        "    reg.fit(X_train, Y_train)\n",
        "    Y_pred = reg.predict(X_test)\n",
        "\n",
        "    Y_pred_list.append(Y_pred)\n",
        "    Y_test_list.append(Y_test)\n",
        "    rmse_list.append(mean_squared_error(Y_test, Y_pred))\n",
        "    r2_list.append(r2_score(Y_test, Y_pred))"
      ],
      "execution_count": null,
      "outputs": []
    },
    {
      "cell_type": "markdown",
      "metadata": {
        "id": "KOMxM3JPPexW",
        "colab_type": "text"
      },
      "source": [
        "##### Dataset States - agrupados"
      ]
    },
    {
      "cell_type": "code",
      "metadata": {
        "id": "Rt3rw3t_PexX",
        "colab_type": "code",
        "colab": {}
      },
      "source": [
        "df_states_list = get_states(df_final)"
      ],
      "execution_count": null,
      "outputs": []
    },
    {
      "cell_type": "code",
      "metadata": {
        "id": "JiJ53_H_PexZ",
        "colab_type": "code",
        "colab": {}
      },
      "source": [
        "Y_pred_list = []\n",
        "Y_test_list = []\n",
        "rmse_list   = []\n",
        "r2_list     = []\n",
        "\n",
        "for df in df_states_list:\n",
        "    df = get_dummies(df)\n",
        "    X_train, X_test, Y_train, Y_test = split_train_test_year(df)\n",
        "    reg = RandomForestRegressor(max_depth=15, random_state=42)\n",
        "    reg.fit(X_train, Y_train)\n",
        "    Y_pred = reg.predict(X_test)\n",
        "\n",
        "    Y_pred_list.append(Y_pred)\n",
        "    Y_test_list.append(Y_test)\n",
        "    rmse_list.append(mean_squared_error(Y_test, Y_pred))\n",
        "    r2_list.append(r2_score(Y_test, Y_pred))"
      ],
      "execution_count": null,
      "outputs": []
    },
    {
      "cell_type": "markdown",
      "metadata": {
        "id": "OOhQJbRUPexb",
        "colab_type": "text"
      },
      "source": [
        "##### Dataset product categories"
      ]
    },
    {
      "cell_type": "code",
      "metadata": {
        "id": "JBXnn-NZPexb",
        "colab_type": "code",
        "colab": {}
      },
      "source": [
        "df_cat_list = get_independent_categories(df_final)"
      ],
      "execution_count": null,
      "outputs": []
    },
    {
      "cell_type": "code",
      "metadata": {
        "id": "eTrxeUQlPexd",
        "colab_type": "code",
        "colab": {}
      },
      "source": [
        "Y_pred_list = []\n",
        "Y_test_list = []\n",
        "rmse_list   = []\n",
        "r2_list     = []\n",
        "\n",
        "for df in df_states_list:\n",
        "    df = get_dummies(df)\n",
        "    X_train, X_test, Y_train, Y_test = split_train_test_year(df)\n",
        "    reg = RandomForestRegressor(max_depth=15, random_state=42)\n",
        "    reg.fit(X_train, Y_train)\n",
        "    Y_pred = reg.predict(X_test)\n",
        "\n",
        "    Y_pred_list.append(Y_pred)\n",
        "    Y_test_list.append(Y_test)\n",
        "    rmse_list.append(mean_squared_error(Y_test, Y_pred))\n",
        "    r2_list.append(r2_score(Y_test, Y_pred))"
      ],
      "execution_count": null,
      "outputs": []
    },
    {
      "cell_type": "markdown",
      "metadata": {
        "id": "6O-KGZGKPexg",
        "colab_type": "text"
      },
      "source": [
        "### SVM"
      ]
    },
    {
      "cell_type": "markdown",
      "metadata": {
        "id": "5o_qvrMxPexg",
        "colab_type": "text"
      },
      "source": [
        "##### Dataset normal"
      ]
    },
    {
      "cell_type": "code",
      "metadata": {
        "id": "qcWSHZxTPexh",
        "colab_type": "code",
        "colab": {}
      },
      "source": [
        "df_tree = get_dummies(df_final)"
      ],
      "execution_count": null,
      "outputs": []
    },
    {
      "cell_type": "code",
      "metadata": {
        "id": "lmbNwmN8Pexi",
        "colab_type": "code",
        "colab": {}
      },
      "source": [
        "X_train, X_test, Y_train, Y_test = split_train_test_year(df_tree)"
      ],
      "execution_count": null,
      "outputs": []
    },
    {
      "cell_type": "code",
      "metadata": {
        "id": "XiVlHjlkPexk",
        "colab_type": "code",
        "colab": {}
      },
      "source": [
        "tree_reg = SVR(max_depth=15, random_state=42)\n",
        "tree_reg.fit(X_train, Y_train)\n",
        "Y_pred = tree_reg.predict(X_test)"
      ],
      "execution_count": null,
      "outputs": []
    },
    {
      "cell_type": "code",
      "metadata": {
        "id": "Ib7-vqgzPexm",
        "colab_type": "code",
        "colab": {},
        "outputId": "6ed04272-4ff2-4c2a-ca86-159bed2cd18d"
      },
      "source": [
        "mean_squared_error(Y_test, Y_pred)"
      ],
      "execution_count": null,
      "outputs": [
        {
          "output_type": "execute_result",
          "data": {
            "text/plain": [
              "26266.09902778076"
            ]
          },
          "metadata": {
            "tags": []
          },
          "execution_count": 46
        }
      ]
    },
    {
      "cell_type": "code",
      "metadata": {
        "id": "3g28ipndPexo",
        "colab_type": "code",
        "colab": {},
        "outputId": "3f84907c-1009-4776-901f-ddaaedbbc0fe"
      },
      "source": [
        "r2_score(Y_test, Y_pred)"
      ],
      "execution_count": null,
      "outputs": [
        {
          "output_type": "execute_result",
          "data": {
            "text/plain": [
              "0.23069981909099202"
            ]
          },
          "metadata": {
            "tags": []
          },
          "execution_count": 47
        }
      ]
    },
    {
      "cell_type": "code",
      "metadata": {
        "id": "WwNCBNGz93KP",
        "colab_type": "code",
        "colab": {}
      },
      "source": [
        "df_tree = get_dummies(df_final)"
      ],
      "execution_count": 31,
      "outputs": []
    },
    {
      "cell_type": "code",
      "metadata": {
        "id": "8-uKL5td-LU2",
        "colab_type": "code",
        "colab": {}
      },
      "source": [
        "X_train, X_test, Y_train, Y_test = split_train_test_normal(df_tree)"
      ],
      "execution_count": 32,
      "outputs": []
    },
    {
      "cell_type": "code",
      "metadata": {
        "id": "EnSYMJS7-Nza",
        "colab_type": "code",
        "colab": {}
      },
      "source": [
        "tree_reg = SVR()"
      ],
      "execution_count": 33,
      "outputs": []
    },
    {
      "cell_type": "code",
      "metadata": {
        "id": "Qy85frNU-RQO",
        "colab_type": "code",
        "colab": {}
      },
      "source": [
        "tree_reg.fit(X_train, Y_train)"
      ],
      "execution_count": null,
      "outputs": []
    },
    {
      "cell_type": "code",
      "metadata": {
        "id": "gDaURFOphElT",
        "colab_type": "code",
        "colab": {
          "base_uri": "https://localhost:8080/",
          "height": 237
        },
        "outputId": "41ddb1e8-81df-452a-c5db-94622cd6114a"
      },
      "source": [
        "Y_pred = tree_reg.predict(X_test)"
      ],
      "execution_count": 1,
      "outputs": [
        {
          "output_type": "error",
          "ename": "NameError",
          "evalue": "ignored",
          "traceback": [
            "\u001b[0;31m---------------------------------------------------------------------------\u001b[0m",
            "\u001b[0;31mNameError\u001b[0m                                 Traceback (most recent call last)",
            "\u001b[0;32m<ipython-input-1-a0d1fcd58e01>\u001b[0m in \u001b[0;36m<module>\u001b[0;34m()\u001b[0m\n\u001b[0;32m----> 1\u001b[0;31m \u001b[0mdf_tree\u001b[0m \u001b[0;34m=\u001b[0m \u001b[0mget_dummies\u001b[0m\u001b[0;34m(\u001b[0m\u001b[0mdf_final\u001b[0m\u001b[0;34m)\u001b[0m\u001b[0;34m\u001b[0m\u001b[0;34m\u001b[0m\u001b[0m\n\u001b[0m\u001b[1;32m      2\u001b[0m \u001b[0mX_train\u001b[0m\u001b[0;34m,\u001b[0m \u001b[0mX_test\u001b[0m\u001b[0;34m,\u001b[0m \u001b[0mY_train\u001b[0m\u001b[0;34m,\u001b[0m \u001b[0mY_test\u001b[0m \u001b[0;34m=\u001b[0m \u001b[0msplit_train_test_normal\u001b[0m\u001b[0;34m(\u001b[0m\u001b[0mdf_tree\u001b[0m\u001b[0;34m)\u001b[0m\u001b[0;34m\u001b[0m\u001b[0;34m\u001b[0m\u001b[0m\n\u001b[1;32m      3\u001b[0m \u001b[0mtree_reg\u001b[0m \u001b[0;34m=\u001b[0m \u001b[0mSVR\u001b[0m\u001b[0;34m(\u001b[0m\u001b[0;34m)\u001b[0m\u001b[0;34m\u001b[0m\u001b[0;34m\u001b[0m\u001b[0m\n\u001b[1;32m      4\u001b[0m \u001b[0mtree_reg\u001b[0m\u001b[0;34m.\u001b[0m\u001b[0mfit\u001b[0m\u001b[0;34m(\u001b[0m\u001b[0mX_train\u001b[0m\u001b[0;34m,\u001b[0m \u001b[0mY_train\u001b[0m\u001b[0;34m)\u001b[0m\u001b[0;34m\u001b[0m\u001b[0;34m\u001b[0m\u001b[0m\n\u001b[1;32m      5\u001b[0m \u001b[0mY_pred\u001b[0m \u001b[0;34m=\u001b[0m \u001b[0mtree_reg\u001b[0m\u001b[0;34m.\u001b[0m\u001b[0mpredict\u001b[0m\u001b[0;34m(\u001b[0m\u001b[0mX_test\u001b[0m\u001b[0;34m)\u001b[0m\u001b[0;34m\u001b[0m\u001b[0;34m\u001b[0m\u001b[0m\n",
            "\u001b[0;31mNameError\u001b[0m: name 'get_dummies' is not defined"
          ]
        }
      ]
    },
    {
      "cell_type": "code",
      "metadata": {
        "id": "LAx1z-DZ97Bd",
        "colab_type": "code",
        "colab": {}
      },
      "source": [
        "mean_squared_error(Y_test, Y_pred)"
      ],
      "execution_count": null,
      "outputs": []
    },
    {
      "cell_type": "code",
      "metadata": {
        "id": "r2TgrfG3-IY8",
        "colab_type": "code",
        "colab": {}
      },
      "source": [
        "r2_score(Y_test, Y_pred)"
      ],
      "execution_count": null,
      "outputs": []
    },
    {
      "cell_type": "markdown",
      "metadata": {
        "id": "6V18DUowPexr",
        "colab_type": "text"
      },
      "source": [
        "##### Dataset States - não agrupados"
      ]
    },
    {
      "cell_type": "code",
      "metadata": {
        "id": "psIuaRnSPexr",
        "colab_type": "code",
        "colab": {}
      },
      "source": [
        "df_states_list = get_independent_states(df_final)"
      ],
      "execution_count": null,
      "outputs": []
    },
    {
      "cell_type": "code",
      "metadata": {
        "id": "5lJpKR8XPext",
        "colab_type": "code",
        "colab": {}
      },
      "source": [
        "Y_pred_list = []\n",
        "Y_test_list = []\n",
        "rmse_list   = []\n",
        "r2_list     = []\n",
        "\n",
        "for df in df_states_list:\n",
        "    df = get_dummies(df)\n",
        "    X_train, X_test, Y_train, Y_test = split_train_test_year(df)\n",
        "    reg = SVR(max_depth=15, random_state=42)\n",
        "    reg.fit(X_train, Y_train)\n",
        "    Y_pred = reg.predict(X_test)\n",
        "\n",
        "    Y_pred_list.append(Y_pred)\n",
        "    Y_test_list.append(Y_test)\n",
        "    rmse_list.append(mean_squared_error(Y_train, Y_pred))\n",
        "    r2_list.append(r2_score(Y_test, Y_pred))"
      ],
      "execution_count": null,
      "outputs": []
    },
    {
      "cell_type": "markdown",
      "metadata": {
        "id": "EiAiGCFIPexv",
        "colab_type": "text"
      },
      "source": [
        "##### Dataset States - agrupados"
      ]
    },
    {
      "cell_type": "code",
      "metadata": {
        "id": "4iTBAxVZPexv",
        "colab_type": "code",
        "colab": {}
      },
      "source": [
        "df_states_list = get_states(df_final)"
      ],
      "execution_count": null,
      "outputs": []
    },
    {
      "cell_type": "code",
      "metadata": {
        "id": "W5inuH5XPexx",
        "colab_type": "code",
        "colab": {}
      },
      "source": [
        "Y_pred_list = []\n",
        "Y_test_list = []\n",
        "rmse_list   = []\n",
        "r2_list     = []\n",
        "\n",
        "for df in df_states_list:\n",
        "    df = get_dummies(df)\n",
        "    X_train, X_test, Y_train, Y_test = split_train_test_year(df)\n",
        "    reg = SVR(max_depth=15, random_state=42)\n",
        "    reg.fit(X_train, Y_train)\n",
        "    Y_pred = reg.predict(X_test)\n",
        "\n",
        "    Y_pred_list.append(Y_pred)\n",
        "    Y_test_list.append(Y_test)\n",
        "    rmse_list.append(mean_squared_error(Y_train, Y_pred))\n",
        "    r2_list.append(r2_score(Y_test, Y_pred))"
      ],
      "execution_count": null,
      "outputs": []
    },
    {
      "cell_type": "markdown",
      "metadata": {
        "id": "f-372ACZPexz",
        "colab_type": "text"
      },
      "source": [
        "##### Dataset product categories"
      ]
    },
    {
      "cell_type": "code",
      "metadata": {
        "id": "MvJpNva0Pexz",
        "colab_type": "code",
        "colab": {}
      },
      "source": [
        "df_cat_list = get_independent_categories(df_final)"
      ],
      "execution_count": null,
      "outputs": []
    },
    {
      "cell_type": "code",
      "metadata": {
        "id": "TNLkUtxsPex1",
        "colab_type": "code",
        "colab": {}
      },
      "source": [
        "Y_pred_list = []\n",
        "Y_test_list = []\n",
        "rmse_list   = []\n",
        "r2_list     = []\n",
        "\n",
        "for df in df_states_list:\n",
        "    df = get_dummies(df)\n",
        "    X_train, X_test, Y_train, Y_test = split_train_test_year(df)\n",
        "    reg = SVR(max_depth=15, random_state=42)\n",
        "    reg.fit(X_train, Y_train)\n",
        "    Y_pred = reg.predict(X_test)\n",
        "\n",
        "    Y_pred_list.append(Y_pred)\n",
        "    Y_test_list.append(Y_test)\n",
        "    rmse_list.append(mean_squared_error(Y_train, Y_pred))\n",
        "    r2_list.append(r2_score(Y_test, Y_pred))"
      ],
      "execution_count": null,
      "outputs": []
    },
    {
      "cell_type": "markdown",
      "metadata": {
        "id": "zM8CyCApPex3",
        "colab_type": "text"
      },
      "source": [
        "### Testagem de Algoritmos - Grid Search"
      ]
    },
    {
      "cell_type": "markdown",
      "metadata": {
        "id": "af6gK3jhPex3",
        "colab_type": "text"
      },
      "source": [
        "### Árvore de regressão"
      ]
    },
    {
      "cell_type": "code",
      "metadata": {
        "id": "6_Alw6XnPex3",
        "colab_type": "code",
        "colab": {
          "base_uri": "https://localhost:8080/",
          "height": 196
        },
        "outputId": "d4c6b396-2c6d-4011-b384-6ac7b955b923"
      },
      "source": [
        "# Grid Search\n",
        "param_grid = [{'max_depth': [5,10,15,20], \n",
        "               'splitter': ['best', 'random'],\n",
        "               'criterion': ['mse', 'friedman_mse', 'mae']\n",
        "               }\n",
        "             ]\n",
        "\n",
        "clf = GridSearchCV(DecisionTreeRegressor(), param_grid)\n",
        "clf.fit(X_train, Y_train)"
      ],
      "execution_count": 34,
      "outputs": [
        {
          "output_type": "error",
          "ename": "NameError",
          "evalue": "ignored",
          "traceback": [
            "\u001b[0;31m---------------------------------------------------------------------------\u001b[0m",
            "\u001b[0;31mNameError\u001b[0m                                 Traceback (most recent call last)",
            "\u001b[0;32m<ipython-input-34-8478a6b0e997>\u001b[0m in \u001b[0;36m<module>\u001b[0;34m()\u001b[0m\n\u001b[1;32m      7\u001b[0m \u001b[0;34m\u001b[0m\u001b[0m\n\u001b[1;32m      8\u001b[0m \u001b[0mclf\u001b[0m \u001b[0;34m=\u001b[0m \u001b[0mGridSearchCV\u001b[0m\u001b[0;34m(\u001b[0m\u001b[0mDecisionTreeRegressor\u001b[0m\u001b[0;34m(\u001b[0m\u001b[0;34m)\u001b[0m\u001b[0;34m,\u001b[0m \u001b[0mparam_grid\u001b[0m\u001b[0;34m)\u001b[0m\u001b[0;34m\u001b[0m\u001b[0;34m\u001b[0m\u001b[0m\n\u001b[0;32m----> 9\u001b[0;31m \u001b[0mclf\u001b[0m\u001b[0;34m.\u001b[0m\u001b[0mfit\u001b[0m\u001b[0;34m(\u001b[0m\u001b[0mX_train\u001b[0m\u001b[0;34m,\u001b[0m \u001b[0mY_train\u001b[0m\u001b[0;34m)\u001b[0m\u001b[0;34m\u001b[0m\u001b[0;34m\u001b[0m\u001b[0m\n\u001b[0m",
            "\u001b[0;31mNameError\u001b[0m: name 'X_train' is not defined"
          ]
        }
      ]
    },
    {
      "cell_type": "code",
      "metadata": {
        "id": "-TMYgMCTPex5",
        "colab_type": "code",
        "colab": {}
      },
      "source": [
        "clf.best_params_"
      ],
      "execution_count": null,
      "outputs": []
    },
    {
      "cell_type": "markdown",
      "metadata": {
        "id": "LoXI7B2zPex7",
        "colab_type": "text"
      },
      "source": [
        "### Random Forest"
      ]
    },
    {
      "cell_type": "code",
      "metadata": {
        "id": "dxQvHdgrPex7",
        "colab_type": "code",
        "colab": {}
      },
      "source": [
        "param_grid = [{'max_depth': [5,10,15,20],\n",
        "               'criterion': ['mse', 'mae']\n",
        "              }\n",
        "             ]\n",
        "\n",
        "clf = GridSearchCV(RandomForestRegressor(), param_grid)\n",
        "clf.fit(X_train, Y_train)\n",
        "Y_test = clf.predict(X_test)"
      ],
      "execution_count": null,
      "outputs": []
    },
    {
      "cell_type": "code",
      "metadata": {
        "id": "6uY1QNxYPex9",
        "colab_type": "code",
        "colab": {}
      },
      "source": [
        "clf.best_params_"
      ],
      "execution_count": null,
      "outputs": []
    },
    {
      "cell_type": "markdown",
      "metadata": {
        "id": "6CEOyyHXPex_",
        "colab_type": "text"
      },
      "source": [
        "### SVM"
      ]
    },
    {
      "cell_type": "code",
      "metadata": {
        "id": "ucqviiqsPex_",
        "colab_type": "code",
        "colab": {}
      },
      "source": [
        "param_grid = [{'max_depth': [5,10,15,20],\n",
        "               'criterion': ['mse', 'mae']\n",
        "              }\n",
        "             ]\n",
        "\n",
        "clf = GridSearchCV(SVR(), param_grid)\n",
        "clf.fit(X_train, Y_train)\n",
        "Y_test = clf.predict(X_test)"
      ],
      "execution_count": null,
      "outputs": []
    },
    {
      "cell_type": "code",
      "metadata": {
        "id": "POgppxWHPeyB",
        "colab_type": "code",
        "colab": {}
      },
      "source": [
        "clf.best_params_"
      ],
      "execution_count": null,
      "outputs": []
    },
    {
      "cell_type": "markdown",
      "metadata": {
        "id": "Yf2HoVB0PeyD",
        "colab_type": "text"
      },
      "source": [
        "### Análise e justificativa dos processamentos feitos acima"
      ]
    },
    {
      "cell_type": "code",
      "metadata": {
        "id": "739mL20APeyE",
        "colab_type": "code",
        "colab": {},
        "outputId": "4a93e62d-bed1-4b21-9f92-a025f027189b"
      },
      "source": [
        "df_final.info()"
      ],
      "execution_count": null,
      "outputs": [
        {
          "output_type": "stream",
          "text": [
            "<class 'pandas.core.frame.DataFrame'>\n",
            "Int64Index: 118318 entries, 0 to 118317\n",
            "Data columns (total 21 columns):\n",
            " #   Column                         Non-Null Count   Dtype  \n",
            "---  ------                         --------------   -----  \n",
            " 0   order_id                       118318 non-null  object \n",
            " 1   order_item_id                  118318 non-null  int64  \n",
            " 2   product_id                     118318 non-null  object \n",
            " 3   customer_id                    118318 non-null  object \n",
            " 4   seller_id                      118318 non-null  object \n",
            " 5   price                          118318 non-null  float64\n",
            " 6   freight_value                  118318 non-null  float64\n",
            " 7   payment_value                  118315 non-null  float64\n",
            " 8   payment_sequential             118315 non-null  float64\n",
            " 9   payment_type                   118315 non-null  object \n",
            " 10  payment_installments           118315 non-null  float64\n",
            " 11  review_score                   118318 non-null  int64  \n",
            " 12  product_category_name          116609 non-null  object \n",
            " 13  order_status                   118318 non-null  object \n",
            " 14  order_purchase_timestamp       118318 non-null  object \n",
            " 15  order_delivered_customer_date  115730 non-null  object \n",
            " 16  order_estimated_delivery_date  118318 non-null  object \n",
            " 17  customer_city                  118318 non-null  object \n",
            " 18  customer_state                 118318 non-null  object \n",
            " 19  seller_city                    118318 non-null  object \n",
            " 20  seller_state                   118318 non-null  object \n",
            "dtypes: float64(5), int64(2), object(14)\n",
            "memory usage: 19.9+ MB\n"
          ],
          "name": "stdout"
        }
      ]
    },
    {
      "cell_type": "code",
      "metadata": {
        "id": "zdGrHoRUPeyI",
        "colab_type": "code",
        "colab": {},
        "outputId": "605afc18-ea6f-4e53-dd80-dbed2128f4a1"
      },
      "source": [
        "# 3 casos problemáticos, a serem resolvidos!\n",
        "df_final[df_final['payment_value'].isnull()]"
      ],
      "execution_count": null,
      "outputs": [
        {
          "output_type": "execute_result",
          "data": {
            "text/html": [
              "<div>\n",
              "<style scoped>\n",
              "    .dataframe tbody tr th:only-of-type {\n",
              "        vertical-align: middle;\n",
              "    }\n",
              "\n",
              "    .dataframe tbody tr th {\n",
              "        vertical-align: top;\n",
              "    }\n",
              "\n",
              "    .dataframe thead th {\n",
              "        text-align: right;\n",
              "    }\n",
              "</style>\n",
              "<table border=\"1\" class=\"dataframe\">\n",
              "  <thead>\n",
              "    <tr style=\"text-align: right;\">\n",
              "      <th></th>\n",
              "      <th>order_id</th>\n",
              "      <th>order_item_id</th>\n",
              "      <th>product_id</th>\n",
              "      <th>customer_id</th>\n",
              "      <th>seller_id</th>\n",
              "      <th>price</th>\n",
              "      <th>freight_value</th>\n",
              "      <th>payment_value</th>\n",
              "      <th>payment_sequential</th>\n",
              "      <th>payment_type</th>\n",
              "      <th>...</th>\n",
              "      <th>review_score</th>\n",
              "      <th>product_category_name</th>\n",
              "      <th>order_status</th>\n",
              "      <th>order_purchase_timestamp</th>\n",
              "      <th>order_delivered_customer_date</th>\n",
              "      <th>order_estimated_delivery_date</th>\n",
              "      <th>customer_city</th>\n",
              "      <th>customer_state</th>\n",
              "      <th>seller_city</th>\n",
              "      <th>seller_state</th>\n",
              "    </tr>\n",
              "  </thead>\n",
              "  <tbody>\n",
              "    <tr>\n",
              "      <th>88643</th>\n",
              "      <td>bfbd0f9bdef84302105ad712db648a6c</td>\n",
              "      <td>1</td>\n",
              "      <td>5a6b04657a4c5ee34285d1e4619a96b4</td>\n",
              "      <td>86dc2ffce2dfff336de2f386a786e574</td>\n",
              "      <td>ecccfa2bb93b34a3bf033cc5d1dcdc69</td>\n",
              "      <td>44.99</td>\n",
              "      <td>2.83</td>\n",
              "      <td>NaN</td>\n",
              "      <td>NaN</td>\n",
              "      <td>NaN</td>\n",
              "      <td>...</td>\n",
              "      <td>1</td>\n",
              "      <td>beleza_saude</td>\n",
              "      <td>delivered</td>\n",
              "      <td>2016-09-15 12:16:38</td>\n",
              "      <td>2016-11-09 07:47:38</td>\n",
              "      <td>2016-10-04 00:00:00</td>\n",
              "      <td>sao joaquim da barra</td>\n",
              "      <td>SP</td>\n",
              "      <td>curitiba</td>\n",
              "      <td>PR</td>\n",
              "    </tr>\n",
              "    <tr>\n",
              "      <th>88644</th>\n",
              "      <td>bfbd0f9bdef84302105ad712db648a6c</td>\n",
              "      <td>2</td>\n",
              "      <td>5a6b04657a4c5ee34285d1e4619a96b4</td>\n",
              "      <td>86dc2ffce2dfff336de2f386a786e574</td>\n",
              "      <td>ecccfa2bb93b34a3bf033cc5d1dcdc69</td>\n",
              "      <td>44.99</td>\n",
              "      <td>2.83</td>\n",
              "      <td>NaN</td>\n",
              "      <td>NaN</td>\n",
              "      <td>NaN</td>\n",
              "      <td>...</td>\n",
              "      <td>1</td>\n",
              "      <td>beleza_saude</td>\n",
              "      <td>delivered</td>\n",
              "      <td>2016-09-15 12:16:38</td>\n",
              "      <td>2016-11-09 07:47:38</td>\n",
              "      <td>2016-10-04 00:00:00</td>\n",
              "      <td>sao joaquim da barra</td>\n",
              "      <td>SP</td>\n",
              "      <td>curitiba</td>\n",
              "      <td>PR</td>\n",
              "    </tr>\n",
              "    <tr>\n",
              "      <th>88645</th>\n",
              "      <td>bfbd0f9bdef84302105ad712db648a6c</td>\n",
              "      <td>3</td>\n",
              "      <td>5a6b04657a4c5ee34285d1e4619a96b4</td>\n",
              "      <td>86dc2ffce2dfff336de2f386a786e574</td>\n",
              "      <td>ecccfa2bb93b34a3bf033cc5d1dcdc69</td>\n",
              "      <td>44.99</td>\n",
              "      <td>2.83</td>\n",
              "      <td>NaN</td>\n",
              "      <td>NaN</td>\n",
              "      <td>NaN</td>\n",
              "      <td>...</td>\n",
              "      <td>1</td>\n",
              "      <td>beleza_saude</td>\n",
              "      <td>delivered</td>\n",
              "      <td>2016-09-15 12:16:38</td>\n",
              "      <td>2016-11-09 07:47:38</td>\n",
              "      <td>2016-10-04 00:00:00</td>\n",
              "      <td>sao joaquim da barra</td>\n",
              "      <td>SP</td>\n",
              "      <td>curitiba</td>\n",
              "      <td>PR</td>\n",
              "    </tr>\n",
              "  </tbody>\n",
              "</table>\n",
              "<p>3 rows × 21 columns</p>\n",
              "</div>"
            ],
            "text/plain": [
              "                               order_id  order_item_id  \\\n",
              "88643  bfbd0f9bdef84302105ad712db648a6c              1   \n",
              "88644  bfbd0f9bdef84302105ad712db648a6c              2   \n",
              "88645  bfbd0f9bdef84302105ad712db648a6c              3   \n",
              "\n",
              "                             product_id                       customer_id  \\\n",
              "88643  5a6b04657a4c5ee34285d1e4619a96b4  86dc2ffce2dfff336de2f386a786e574   \n",
              "88644  5a6b04657a4c5ee34285d1e4619a96b4  86dc2ffce2dfff336de2f386a786e574   \n",
              "88645  5a6b04657a4c5ee34285d1e4619a96b4  86dc2ffce2dfff336de2f386a786e574   \n",
              "\n",
              "                              seller_id  price  freight_value  payment_value  \\\n",
              "88643  ecccfa2bb93b34a3bf033cc5d1dcdc69  44.99           2.83            NaN   \n",
              "88644  ecccfa2bb93b34a3bf033cc5d1dcdc69  44.99           2.83            NaN   \n",
              "88645  ecccfa2bb93b34a3bf033cc5d1dcdc69  44.99           2.83            NaN   \n",
              "\n",
              "       payment_sequential payment_type  ...  review_score  \\\n",
              "88643                 NaN          NaN  ...             1   \n",
              "88644                 NaN          NaN  ...             1   \n",
              "88645                 NaN          NaN  ...             1   \n",
              "\n",
              "       product_category_name order_status order_purchase_timestamp  \\\n",
              "88643           beleza_saude    delivered      2016-09-15 12:16:38   \n",
              "88644           beleza_saude    delivered      2016-09-15 12:16:38   \n",
              "88645           beleza_saude    delivered      2016-09-15 12:16:38   \n",
              "\n",
              "      order_delivered_customer_date order_estimated_delivery_date  \\\n",
              "88643           2016-11-09 07:47:38           2016-10-04 00:00:00   \n",
              "88644           2016-11-09 07:47:38           2016-10-04 00:00:00   \n",
              "88645           2016-11-09 07:47:38           2016-10-04 00:00:00   \n",
              "\n",
              "              customer_city customer_state seller_city seller_state  \n",
              "88643  sao joaquim da barra             SP    curitiba           PR  \n",
              "88644  sao joaquim da barra             SP    curitiba           PR  \n",
              "88645  sao joaquim da barra             SP    curitiba           PR  \n",
              "\n",
              "[3 rows x 21 columns]"
            ]
          },
          "metadata": {
            "tags": []
          },
          "execution_count": 18
        }
      ]
    },
    {
      "cell_type": "code",
      "metadata": {
        "id": "Yj7DNEIRPeyL",
        "colab_type": "code",
        "colab": {},
        "outputId": "060d8330-ac6f-416f-9155-deefd969692d"
      },
      "source": [
        "DecisionTreeRegressordf_final_without_nan"
      ],
      "execution_count": null,
      "outputs": [
        {
          "output_type": "execute_result",
          "data": {
            "text/html": [
              "<div>\n",
              "<style scoped>\n",
              "    .dataframe tbody tr th:only-of-type {\n",
              "        vertical-align: middle;\n",
              "    }\n",
              "\n",
              "    .dataframe tbody tr th {\n",
              "        vertical-align: top;\n",
              "    }\n",
              "\n",
              "    .dataframe thead th {\n",
              "        text-align: right;\n",
              "    }\n",
              "</style>\n",
              "<table border=\"1\" class=\"dataframe\">\n",
              "  <thead>\n",
              "    <tr style=\"text-align: right;\">\n",
              "      <th></th>\n",
              "      <th>order_id</th>\n",
              "      <th>order_item_id</th>\n",
              "      <th>product_id</th>\n",
              "      <th>customer_id</th>\n",
              "      <th>seller_id</th>\n",
              "      <th>price</th>\n",
              "      <th>freight_value</th>\n",
              "      <th>payment_value</th>\n",
              "      <th>payment_sequential</th>\n",
              "      <th>payment_type</th>\n",
              "      <th>...</th>\n",
              "      <th>review_score</th>\n",
              "      <th>product_category_name</th>\n",
              "      <th>order_status</th>\n",
              "      <th>order_purchase_timestamp</th>\n",
              "      <th>order_delivered_customer_date</th>\n",
              "      <th>order_estimated_delivery_date</th>\n",
              "      <th>customer_city</th>\n",
              "      <th>customer_state</th>\n",
              "      <th>seller_city</th>\n",
              "      <th>seller_state</th>\n",
              "    </tr>\n",
              "  </thead>\n",
              "  <tbody>\n",
              "    <tr>\n",
              "      <th>0</th>\n",
              "      <td>00010242fe8c5a6d1ba2dd792cb16214</td>\n",
              "      <td>1</td>\n",
              "      <td>4244733e06e7ecb4970a6e2683c13e61</td>\n",
              "      <td>3ce436f183e68e07877b285a838db11a</td>\n",
              "      <td>48436dade18ac8b2bce089ec2a041202</td>\n",
              "      <td>58.90</td>\n",
              "      <td>13.29</td>\n",
              "      <td>72.19</td>\n",
              "      <td>1.0</td>\n",
              "      <td>credit_card</td>\n",
              "      <td>...</td>\n",
              "      <td>5</td>\n",
              "      <td>cool_stuff</td>\n",
              "      <td>delivered</td>\n",
              "      <td>2017-09-13 08:59:02</td>\n",
              "      <td>2017-09-20 23:43:48</td>\n",
              "      <td>2017-09-29 00:00:00</td>\n",
              "      <td>campos dos goytacazes</td>\n",
              "      <td>RJ</td>\n",
              "      <td>volta redonda</td>\n",
              "      <td>SP</td>\n",
              "    </tr>\n",
              "    <tr>\n",
              "      <th>1</th>\n",
              "      <td>00018f77f2f0320c557190d7a144bdd3</td>\n",
              "      <td>1</td>\n",
              "      <td>e5f2d52b802189ee658865ca93d83a8f</td>\n",
              "      <td>f6dd3ec061db4e3987629fe6b26e5cce</td>\n",
              "      <td>dd7ddc04e1b6c2c614352b383efe2d36</td>\n",
              "      <td>239.90</td>\n",
              "      <td>19.93</td>\n",
              "      <td>259.83</td>\n",
              "      <td>1.0</td>\n",
              "      <td>credit_card</td>\n",
              "      <td>...</td>\n",
              "      <td>4</td>\n",
              "      <td>pet_shop</td>\n",
              "      <td>delivered</td>\n",
              "      <td>2017-04-26 10:53:06</td>\n",
              "      <td>2017-05-12 16:04:24</td>\n",
              "      <td>2017-05-15 00:00:00</td>\n",
              "      <td>santa fe do sul</td>\n",
              "      <td>SP</td>\n",
              "      <td>sao paulo</td>\n",
              "      <td>SP</td>\n",
              "    </tr>\n",
              "    <tr>\n",
              "      <th>2</th>\n",
              "      <td>000229ec398224ef6ca0657da4fc703e</td>\n",
              "      <td>1</td>\n",
              "      <td>c777355d18b72b67abbeef9df44fd0fd</td>\n",
              "      <td>6489ae5e4333f3693df5ad4372dab6d3</td>\n",
              "      <td>5b51032eddd242adc84c38acab88f23d</td>\n",
              "      <td>199.00</td>\n",
              "      <td>17.87</td>\n",
              "      <td>216.87</td>\n",
              "      <td>1.0</td>\n",
              "      <td>credit_card</td>\n",
              "      <td>...</td>\n",
              "      <td>5</td>\n",
              "      <td>moveis_decoracao</td>\n",
              "      <td>delivered</td>\n",
              "      <td>2018-01-14 14:33:31</td>\n",
              "      <td>2018-01-22 13:19:16</td>\n",
              "      <td>2018-02-05 00:00:00</td>\n",
              "      <td>para de minas</td>\n",
              "      <td>MG</td>\n",
              "      <td>borda da mata</td>\n",
              "      <td>MG</td>\n",
              "    </tr>\n",
              "    <tr>\n",
              "      <th>3</th>\n",
              "      <td>00024acbcdf0a6daa1e931b038114c75</td>\n",
              "      <td>1</td>\n",
              "      <td>7634da152a4610f1595efa32f14722fc</td>\n",
              "      <td>d4eb9395c8c0431ee92fce09860c5a06</td>\n",
              "      <td>9d7a1d34a5052409006425275ba1c2b4</td>\n",
              "      <td>12.99</td>\n",
              "      <td>12.79</td>\n",
              "      <td>25.78</td>\n",
              "      <td>1.0</td>\n",
              "      <td>credit_card</td>\n",
              "      <td>...</td>\n",
              "      <td>4</td>\n",
              "      <td>perfumaria</td>\n",
              "      <td>delivered</td>\n",
              "      <td>2018-08-08 10:00:35</td>\n",
              "      <td>2018-08-14 13:32:39</td>\n",
              "      <td>2018-08-20 00:00:00</td>\n",
              "      <td>atibaia</td>\n",
              "      <td>SP</td>\n",
              "      <td>franca</td>\n",
              "      <td>SP</td>\n",
              "    </tr>\n",
              "    <tr>\n",
              "      <th>4</th>\n",
              "      <td>00042b26cf59d7ce69dfabb4e55b4fd9</td>\n",
              "      <td>1</td>\n",
              "      <td>ac6c3623068f30de03045865e4e10089</td>\n",
              "      <td>58dbd0b2d70206bf40e62cd34e84d795</td>\n",
              "      <td>df560393f3a51e74553ab94004ba5c87</td>\n",
              "      <td>199.90</td>\n",
              "      <td>18.14</td>\n",
              "      <td>218.04</td>\n",
              "      <td>1.0</td>\n",
              "      <td>credit_card</td>\n",
              "      <td>...</td>\n",
              "      <td>5</td>\n",
              "      <td>ferramentas_jardim</td>\n",
              "      <td>delivered</td>\n",
              "      <td>2017-02-04 13:57:51</td>\n",
              "      <td>2017-03-01 16:42:31</td>\n",
              "      <td>2017-03-17 00:00:00</td>\n",
              "      <td>varzea paulista</td>\n",
              "      <td>SP</td>\n",
              "      <td>loanda</td>\n",
              "      <td>PR</td>\n",
              "    </tr>\n",
              "    <tr>\n",
              "      <th>...</th>\n",
              "      <td>...</td>\n",
              "      <td>...</td>\n",
              "      <td>...</td>\n",
              "      <td>...</td>\n",
              "      <td>...</td>\n",
              "      <td>...</td>\n",
              "      <td>...</td>\n",
              "      <td>...</td>\n",
              "      <td>...</td>\n",
              "      <td>...</td>\n",
              "      <td>...</td>\n",
              "      <td>...</td>\n",
              "      <td>...</td>\n",
              "      <td>...</td>\n",
              "      <td>...</td>\n",
              "      <td>...</td>\n",
              "      <td>...</td>\n",
              "      <td>...</td>\n",
              "      <td>...</td>\n",
              "      <td>...</td>\n",
              "      <td>...</td>\n",
              "    </tr>\n",
              "    <tr>\n",
              "      <th>118313</th>\n",
              "      <td>fffc94f6ce00a00581880bf54a75a037</td>\n",
              "      <td>1</td>\n",
              "      <td>4aa6014eceb682077f9dc4bffebc05b0</td>\n",
              "      <td>b51593916b4b8e0d6f66f2ae24f2673d</td>\n",
              "      <td>b8bc237ba3788b23da09c0f1f3a3288c</td>\n",
              "      <td>299.99</td>\n",
              "      <td>43.41</td>\n",
              "      <td>343.40</td>\n",
              "      <td>1.0</td>\n",
              "      <td>boleto</td>\n",
              "      <td>...</td>\n",
              "      <td>5</td>\n",
              "      <td>utilidades_domesticas</td>\n",
              "      <td>delivered</td>\n",
              "      <td>2018-04-23 13:57:06</td>\n",
              "      <td>2018-05-10 22:56:40</td>\n",
              "      <td>2018-05-18 00:00:00</td>\n",
              "      <td>sao luis</td>\n",
              "      <td>MA</td>\n",
              "      <td>itajai</td>\n",
              "      <td>SC</td>\n",
              "    </tr>\n",
              "    <tr>\n",
              "      <th>118314</th>\n",
              "      <td>fffcd46ef2263f404302a634eb57f7eb</td>\n",
              "      <td>1</td>\n",
              "      <td>32e07fd915822b0765e448c4dd74c828</td>\n",
              "      <td>84c5d4fbaf120aae381fad077416eaa0</td>\n",
              "      <td>f3c38ab652836d21de61fb8314b69182</td>\n",
              "      <td>350.00</td>\n",
              "      <td>36.53</td>\n",
              "      <td>386.53</td>\n",
              "      <td>1.0</td>\n",
              "      <td>boleto</td>\n",
              "      <td>...</td>\n",
              "      <td>5</td>\n",
              "      <td>informatica_acessorios</td>\n",
              "      <td>delivered</td>\n",
              "      <td>2018-07-14 10:26:46</td>\n",
              "      <td>2018-07-23 20:31:55</td>\n",
              "      <td>2018-08-01 00:00:00</td>\n",
              "      <td>curitiba</td>\n",
              "      <td>PR</td>\n",
              "      <td>sao paulo</td>\n",
              "      <td>SP</td>\n",
              "    </tr>\n",
              "    <tr>\n",
              "      <th>118315</th>\n",
              "      <td>fffce4705a9662cd70adb13d4a31832d</td>\n",
              "      <td>1</td>\n",
              "      <td>72a30483855e2eafc67aee5dc2560482</td>\n",
              "      <td>29309aa813182aaddc9b259e31b870e6</td>\n",
              "      <td>c3cfdc648177fdbbbb35635a37472c53</td>\n",
              "      <td>99.90</td>\n",
              "      <td>16.95</td>\n",
              "      <td>116.85</td>\n",
              "      <td>1.0</td>\n",
              "      <td>credit_card</td>\n",
              "      <td>...</td>\n",
              "      <td>5</td>\n",
              "      <td>esporte_lazer</td>\n",
              "      <td>delivered</td>\n",
              "      <td>2017-10-23 17:07:56</td>\n",
              "      <td>2017-10-28 12:22:22</td>\n",
              "      <td>2017-11-10 00:00:00</td>\n",
              "      <td>sao paulo</td>\n",
              "      <td>SP</td>\n",
              "      <td>curitiba</td>\n",
              "      <td>PR</td>\n",
              "    </tr>\n",
              "    <tr>\n",
              "      <th>118316</th>\n",
              "      <td>fffe18544ffabc95dfada21779c9644f</td>\n",
              "      <td>1</td>\n",
              "      <td>9c422a519119dcad7575db5af1ba540e</td>\n",
              "      <td>b5e6afd5a41800fdf401e0272ca74655</td>\n",
              "      <td>2b3e4a2a3ea8e01938cabda2a3e5cc79</td>\n",
              "      <td>55.99</td>\n",
              "      <td>8.72</td>\n",
              "      <td>64.71</td>\n",
              "      <td>1.0</td>\n",
              "      <td>credit_card</td>\n",
              "      <td>...</td>\n",
              "      <td>5</td>\n",
              "      <td>informatica_acessorios</td>\n",
              "      <td>delivered</td>\n",
              "      <td>2017-08-14 23:02:59</td>\n",
              "      <td>2017-08-16 21:59:40</td>\n",
              "      <td>2017-08-25 00:00:00</td>\n",
              "      <td>vinhedo</td>\n",
              "      <td>SP</td>\n",
              "      <td>sao paulo</td>\n",
              "      <td>SP</td>\n",
              "    </tr>\n",
              "    <tr>\n",
              "      <th>118317</th>\n",
              "      <td>fffe41c64501cc87c801fd61db3f6244</td>\n",
              "      <td>1</td>\n",
              "      <td>350688d9dc1e75ff97be326363655e01</td>\n",
              "      <td>96d649da0cc4ff33bb408b199d4c7dcf</td>\n",
              "      <td>f7ccf836d21b2fb1de37564105216cc1</td>\n",
              "      <td>43.00</td>\n",
              "      <td>12.79</td>\n",
              "      <td>55.79</td>\n",
              "      <td>1.0</td>\n",
              "      <td>credit_card</td>\n",
              "      <td>...</td>\n",
              "      <td>5</td>\n",
              "      <td>cama_mesa_banho</td>\n",
              "      <td>delivered</td>\n",
              "      <td>2018-06-09 17:00:18</td>\n",
              "      <td>2018-06-14 17:56:26</td>\n",
              "      <td>2018-06-28 00:00:00</td>\n",
              "      <td>botucatu</td>\n",
              "      <td>SP</td>\n",
              "      <td>ibitinga</td>\n",
              "      <td>SP</td>\n",
              "    </tr>\n",
              "  </tbody>\n",
              "</table>\n",
              "<p>118315 rows × 21 columns</p>\n",
              "</div>"
            ],
            "text/plain": [
              "                                order_id  order_item_id  \\\n",
              "0       00010242fe8c5a6d1ba2dd792cb16214              1   \n",
              "1       00018f77f2f0320c557190d7a144bdd3              1   \n",
              "2       000229ec398224ef6ca0657da4fc703e              1   \n",
              "3       00024acbcdf0a6daa1e931b038114c75              1   \n",
              "4       00042b26cf59d7ce69dfabb4e55b4fd9              1   \n",
              "...                                  ...            ...   \n",
              "118313  fffc94f6ce00a00581880bf54a75a037              1   \n",
              "118314  fffcd46ef2263f404302a634eb57f7eb              1   \n",
              "118315  fffce4705a9662cd70adb13d4a31832d              1   \n",
              "118316  fffe18544ffabc95dfada21779c9644f              1   \n",
              "118317  fffe41c64501cc87c801fd61db3f6244              1   \n",
              "\n",
              "                              product_id                       customer_id  \\\n",
              "0       4244733e06e7ecb4970a6e2683c13e61  3ce436f183e68e07877b285a838db11a   \n",
              "1       e5f2d52b802189ee658865ca93d83a8f  f6dd3ec061db4e3987629fe6b26e5cce   \n",
              "2       c777355d18b72b67abbeef9df44fd0fd  6489ae5e4333f3693df5ad4372dab6d3   \n",
              "3       7634da152a4610f1595efa32f14722fc  d4eb9395c8c0431ee92fce09860c5a06   \n",
              "4       ac6c3623068f30de03045865e4e10089  58dbd0b2d70206bf40e62cd34e84d795   \n",
              "...                                  ...                               ...   \n",
              "118313  4aa6014eceb682077f9dc4bffebc05b0  b51593916b4b8e0d6f66f2ae24f2673d   \n",
              "118314  32e07fd915822b0765e448c4dd74c828  84c5d4fbaf120aae381fad077416eaa0   \n",
              "118315  72a30483855e2eafc67aee5dc2560482  29309aa813182aaddc9b259e31b870e6   \n",
              "118316  9c422a519119dcad7575db5af1ba540e  b5e6afd5a41800fdf401e0272ca74655   \n",
              "118317  350688d9dc1e75ff97be326363655e01  96d649da0cc4ff33bb408b199d4c7dcf   \n",
              "\n",
              "                               seller_id   price  freight_value  \\\n",
              "0       48436dade18ac8b2bce089ec2a041202   58.90          13.29   \n",
              "1       dd7ddc04e1b6c2c614352b383efe2d36  239.90          19.93   \n",
              "2       5b51032eddd242adc84c38acab88f23d  199.00          17.87   \n",
              "3       9d7a1d34a5052409006425275ba1c2b4   12.99          12.79   \n",
              "4       df560393f3a51e74553ab94004ba5c87  199.90          18.14   \n",
              "...                                  ...     ...            ...   \n",
              "118313  b8bc237ba3788b23da09c0f1f3a3288c  299.99          43.41   \n",
              "118314  f3c38ab652836d21de61fb8314b69182  350.00          36.53   \n",
              "118315  c3cfdc648177fdbbbb35635a37472c53   99.90          16.95   \n",
              "118316  2b3e4a2a3ea8e01938cabda2a3e5cc79   55.99           8.72   \n",
              "118317  f7ccf836d21b2fb1de37564105216cc1   43.00          12.79   \n",
              "\n",
              "        payment_value  payment_sequential payment_type  ...  review_score  \\\n",
              "0               72.19                 1.0  credit_card  ...             5   \n",
              "1              259.83                 1.0  credit_card  ...             4   \n",
              "2              216.87                 1.0  credit_card  ...             5   \n",
              "3               25.78                 1.0  credit_card  ...             4   \n",
              "4              218.04                 1.0  credit_card  ...             5   \n",
              "...               ...                 ...          ...  ...           ...   \n",
              "118313         343.40                 1.0       boleto  ...             5   \n",
              "118314         386.53                 1.0       boleto  ...             5   \n",
              "118315         116.85                 1.0  credit_card  ...             5   \n",
              "118316          64.71                 1.0  credit_card  ...             5   \n",
              "118317          55.79                 1.0  credit_card  ...             5   \n",
              "\n",
              "         product_category_name order_status order_purchase_timestamp  \\\n",
              "0                   cool_stuff    delivered      2017-09-13 08:59:02   \n",
              "1                     pet_shop    delivered      2017-04-26 10:53:06   \n",
              "2             moveis_decoracao    delivered      2018-01-14 14:33:31   \n",
              "3                   perfumaria    delivered      2018-08-08 10:00:35   \n",
              "4           ferramentas_jardim    delivered      2017-02-04 13:57:51   \n",
              "...                        ...          ...                      ...   \n",
              "118313   utilidades_domesticas    delivered      2018-04-23 13:57:06   \n",
              "118314  informatica_acessorios    delivered      2018-07-14 10:26:46   \n",
              "118315           esporte_lazer    delivered      2017-10-23 17:07:56   \n",
              "118316  informatica_acessorios    delivered      2017-08-14 23:02:59   \n",
              "118317         cama_mesa_banho    delivered      2018-06-09 17:00:18   \n",
              "\n",
              "       order_delivered_customer_date order_estimated_delivery_date  \\\n",
              "0                2017-09-20 23:43:48           2017-09-29 00:00:00   \n",
              "1                2017-05-12 16:04:24           2017-05-15 00:00:00   \n",
              "2                2018-01-22 13:19:16           2018-02-05 00:00:00   \n",
              "3                2018-08-14 13:32:39           2018-08-20 00:00:00   \n",
              "4                2017-03-01 16:42:31           2017-03-17 00:00:00   \n",
              "...                              ...                           ...   \n",
              "118313           2018-05-10 22:56:40           2018-05-18 00:00:00   \n",
              "118314           2018-07-23 20:31:55           2018-08-01 00:00:00   \n",
              "118315           2017-10-28 12:22:22           2017-11-10 00:00:00   \n",
              "118316           2017-08-16 21:59:40           2017-08-25 00:00:00   \n",
              "118317           2018-06-14 17:56:26           2018-06-28 00:00:00   \n",
              "\n",
              "                customer_city customer_state    seller_city seller_state  \n",
              "0       campos dos goytacazes             RJ  volta redonda           SP  \n",
              "1             santa fe do sul             SP      sao paulo           SP  \n",
              "2               para de minas             MG  borda da mata           MG  \n",
              "3                     atibaia             SP         franca           SP  \n",
              "4             varzea paulista             SP         loanda           PR  \n",
              "...                       ...            ...            ...          ...  \n",
              "118313               sao luis             MA         itajai           SC  \n",
              "118314               curitiba             PR      sao paulo           SP  \n",
              "118315              sao paulo             SP       curitiba           PR  \n",
              "118316                vinhedo             SP      sao paulo           SP  \n",
              "118317               botucatu             SP       ibitinga           SP  \n",
              "\n",
              "[118315 rows x 21 columns]"
            ]
          },
          "metadata": {
            "tags": []
          },
          "execution_count": 20
        }
      ]
    },
    {
      "cell_type": "code",
      "metadata": {
        "id": "dJyFqn9aPeyN",
        "colab_type": "code",
        "colab": {},
        "outputId": "0934f533-ed53-42f2-a19f-771db4e0cd85"
      },
      "source": [
        "# Os valores sem categoria são 610 valores distintos, como esperado,  caso comparemos com o que há de nulos \n",
        "# distintos sem categorização na tabela de produtos de onde essa informação veio!\n",
        "\n",
        "df_final[df_final['product_category_name'].isnull()]['product_id'].nunique()"
      ],
      "execution_count": null,
      "outputs": [
        {
          "output_type": "execute_result",
          "data": {
            "text/plain": [
              "610"
            ]
          },
          "metadata": {
            "tags": []
          },
          "execution_count": 21
        }
      ]
    },
    {
      "cell_type": "code",
      "metadata": {
        "id": "e-73nuTWPeyQ",
        "colab_type": "code",
        "colab": {},
        "outputId": "7f7ca752-fb4a-4755-b298-2f461651cdf5"
      },
      "source": [
        "df_final[df_final['product_category_name'].isnull()]"
      ],
      "execution_count": null,
      "outputs": [
        {
          "output_type": "execute_result",
          "data": {
            "text/html": [
              "<div>\n",
              "<style scoped>\n",
              "    .dataframe tbody tr th:only-of-type {\n",
              "        vertical-align: middle;\n",
              "    }\n",
              "\n",
              "    .dataframe tbody tr th {\n",
              "        vertical-align: top;\n",
              "    }\n",
              "\n",
              "    .dataframe thead th {\n",
              "        text-align: right;\n",
              "    }\n",
              "</style>\n",
              "<table border=\"1\" class=\"dataframe\">\n",
              "  <thead>\n",
              "    <tr style=\"text-align: right;\">\n",
              "      <th></th>\n",
              "      <th>order_id</th>\n",
              "      <th>order_item_id</th>\n",
              "      <th>product_id</th>\n",
              "      <th>customer_id</th>\n",
              "      <th>seller_id</th>\n",
              "      <th>price</th>\n",
              "      <th>freight_value</th>\n",
              "      <th>payment_value</th>\n",
              "      <th>payment_sequential</th>\n",
              "      <th>payment_type</th>\n",
              "      <th>...</th>\n",
              "      <th>review_score</th>\n",
              "      <th>product_category_name</th>\n",
              "      <th>order_status</th>\n",
              "      <th>order_purchase_timestamp</th>\n",
              "      <th>order_delivered_customer_date</th>\n",
              "      <th>order_estimated_delivery_date</th>\n",
              "      <th>customer_city</th>\n",
              "      <th>customer_state</th>\n",
              "      <th>seller_city</th>\n",
              "      <th>seller_state</th>\n",
              "    </tr>\n",
              "  </thead>\n",
              "  <tbody>\n",
              "    <tr>\n",
              "      <th>126</th>\n",
              "      <td>0046e1d57f4c07c8c92ab26be8c3dfc0</td>\n",
              "      <td>1</td>\n",
              "      <td>ff6caf9340512b8bf6d2a2a6df032cfa</td>\n",
              "      <td>ae55e228ded796581eccc67045516023</td>\n",
              "      <td>38e6dada03429a47197d5d584d793b41</td>\n",
              "      <td>7.79</td>\n",
              "      <td>7.78</td>\n",
              "      <td>15.57</td>\n",
              "      <td>1.0</td>\n",
              "      <td>credit_card</td>\n",
              "      <td>...</td>\n",
              "      <td>5</td>\n",
              "      <td>NaN</td>\n",
              "      <td>delivered</td>\n",
              "      <td>2017-09-26 15:24:03</td>\n",
              "      <td>2017-09-29 18:29:50</td>\n",
              "      <td>2017-10-11 00:00:00</td>\n",
              "      <td>sao paulo</td>\n",
              "      <td>SP</td>\n",
              "      <td>sao paulo</td>\n",
              "      <td>SP</td>\n",
              "    </tr>\n",
              "    <tr>\n",
              "      <th>128</th>\n",
              "      <td>00482f2670787292280e0a8153d82467</td>\n",
              "      <td>1</td>\n",
              "      <td>a9c404971d1a5b1cbc2e4070e02731fd</td>\n",
              "      <td>baa4ed05f22ffb6c4a41b71b699a492c</td>\n",
              "      <td>702835e4b785b67a084280efca355756</td>\n",
              "      <td>7.60</td>\n",
              "      <td>10.96</td>\n",
              "      <td>18.56</td>\n",
              "      <td>1.0</td>\n",
              "      <td>boleto</td>\n",
              "      <td>...</td>\n",
              "      <td>5</td>\n",
              "      <td>NaN</td>\n",
              "      <td>delivered</td>\n",
              "      <td>2017-02-13 16:18:07</td>\n",
              "      <td>2017-02-15 11:35:56</td>\n",
              "      <td>2017-03-10 00:00:00</td>\n",
              "      <td>juiz de fora</td>\n",
              "      <td>MG</td>\n",
              "      <td>juiz de fora</td>\n",
              "      <td>MG</td>\n",
              "    </tr>\n",
              "    <tr>\n",
              "      <th>135</th>\n",
              "      <td>004f5d8f238e8908e6864b874eda3391</td>\n",
              "      <td>1</td>\n",
              "      <td>5a848e4ab52fd5445cdc07aab1c40e48</td>\n",
              "      <td>a69c820c317aa348d781a9d6732afc23</td>\n",
              "      <td>c826c40d7b19f62a09e2d7c5e7295ee2</td>\n",
              "      <td>122.99</td>\n",
              "      <td>15.61</td>\n",
              "      <td>138.60</td>\n",
              "      <td>1.0</td>\n",
              "      <td>boleto</td>\n",
              "      <td>...</td>\n",
              "      <td>3</td>\n",
              "      <td>NaN</td>\n",
              "      <td>delivered</td>\n",
              "      <td>2018-02-27 12:16:30</td>\n",
              "      <td>2018-03-23 00:52:43</td>\n",
              "      <td>2018-03-21 00:00:00</td>\n",
              "      <td>corumba</td>\n",
              "      <td>MS</td>\n",
              "      <td>guarulhos</td>\n",
              "      <td>SP</td>\n",
              "    </tr>\n",
              "    <tr>\n",
              "      <th>145</th>\n",
              "      <td>0057199db02d1a5ef41bacbf41f8f63b</td>\n",
              "      <td>1</td>\n",
              "      <td>41eee23c25f7a574dfaf8d5c151dbb12</td>\n",
              "      <td>c664dc5de5b5f4184bc4ca0285b9f8fe</td>\n",
              "      <td>e5a3438891c0bfdb9394643f95273d8e</td>\n",
              "      <td>20.30</td>\n",
              "      <td>16.79</td>\n",
              "      <td>37.09</td>\n",
              "      <td>1.0</td>\n",
              "      <td>boleto</td>\n",
              "      <td>...</td>\n",
              "      <td>4</td>\n",
              "      <td>NaN</td>\n",
              "      <td>delivered</td>\n",
              "      <td>2018-01-18 17:05:30</td>\n",
              "      <td>2018-02-06 20:07:20</td>\n",
              "      <td>2018-02-20 00:00:00</td>\n",
              "      <td>sinop</td>\n",
              "      <td>MT</td>\n",
              "      <td>limeira</td>\n",
              "      <td>SP</td>\n",
              "    </tr>\n",
              "    <tr>\n",
              "      <th>174</th>\n",
              "      <td>006cb7cafc99b29548d4f412c7f9f493</td>\n",
              "      <td>1</td>\n",
              "      <td>e10758160da97891c2fdcbc35f0f031d</td>\n",
              "      <td>97dc92f1aae3a7db8b252d1b8466910e</td>\n",
              "      <td>323ce52b5b81df2cd804b017b7f09aa7</td>\n",
              "      <td>56.00</td>\n",
              "      <td>14.14</td>\n",
              "      <td>70.14</td>\n",
              "      <td>1.0</td>\n",
              "      <td>credit_card</td>\n",
              "      <td>...</td>\n",
              "      <td>5</td>\n",
              "      <td>NaN</td>\n",
              "      <td>delivered</td>\n",
              "      <td>2018-02-17 14:22:34</td>\n",
              "      <td>2018-02-25 13:46:52</td>\n",
              "      <td>2018-03-13 00:00:00</td>\n",
              "      <td>brasilia</td>\n",
              "      <td>DF</td>\n",
              "      <td>sao paulo</td>\n",
              "      <td>SP</td>\n",
              "    </tr>\n",
              "    <tr>\n",
              "      <th>...</th>\n",
              "      <td>...</td>\n",
              "      <td>...</td>\n",
              "      <td>...</td>\n",
              "      <td>...</td>\n",
              "      <td>...</td>\n",
              "      <td>...</td>\n",
              "      <td>...</td>\n",
              "      <td>...</td>\n",
              "      <td>...</td>\n",
              "      <td>...</td>\n",
              "      <td>...</td>\n",
              "      <td>...</td>\n",
              "      <td>...</td>\n",
              "      <td>...</td>\n",
              "      <td>...</td>\n",
              "      <td>...</td>\n",
              "      <td>...</td>\n",
              "      <td>...</td>\n",
              "      <td>...</td>\n",
              "      <td>...</td>\n",
              "      <td>...</td>\n",
              "    </tr>\n",
              "    <tr>\n",
              "      <th>117964</th>\n",
              "      <td>ff24fec69b7f3d30f9dc1ab3aee7c179</td>\n",
              "      <td>1</td>\n",
              "      <td>5a848e4ab52fd5445cdc07aab1c40e48</td>\n",
              "      <td>442c6e15fe1e8e63a96598607c92bc35</td>\n",
              "      <td>c826c40d7b19f62a09e2d7c5e7295ee2</td>\n",
              "      <td>122.99</td>\n",
              "      <td>15.61</td>\n",
              "      <td>138.60</td>\n",
              "      <td>1.0</td>\n",
              "      <td>boleto</td>\n",
              "      <td>...</td>\n",
              "      <td>4</td>\n",
              "      <td>NaN</td>\n",
              "      <td>delivered</td>\n",
              "      <td>2018-01-26 14:41:14</td>\n",
              "      <td>2018-02-07 14:57:00</td>\n",
              "      <td>2018-02-22 00:00:00</td>\n",
              "      <td>jaragua do sul</td>\n",
              "      <td>SC</td>\n",
              "      <td>guarulhos</td>\n",
              "      <td>SP</td>\n",
              "    </tr>\n",
              "    <tr>\n",
              "      <th>117991</th>\n",
              "      <td>ff3024474be86400847879103757d1fd</td>\n",
              "      <td>1</td>\n",
              "      <td>f9b1795281ce51b1cf39ef6d101ae8ab</td>\n",
              "      <td>945c975073e57fe39a636afbf6689bcc</td>\n",
              "      <td>3771c85bac139d2344864ede5d9341e3</td>\n",
              "      <td>39.90</td>\n",
              "      <td>9.94</td>\n",
              "      <td>49.84</td>\n",
              "      <td>1.0</td>\n",
              "      <td>boleto</td>\n",
              "      <td>...</td>\n",
              "      <td>3</td>\n",
              "      <td>NaN</td>\n",
              "      <td>delivered</td>\n",
              "      <td>2017-11-11 15:18:16</td>\n",
              "      <td>2017-11-28 18:00:22</td>\n",
              "      <td>2017-11-27 00:00:00</td>\n",
              "      <td>campinas</td>\n",
              "      <td>SP</td>\n",
              "      <td>sorocaba</td>\n",
              "      <td>SP</td>\n",
              "    </tr>\n",
              "    <tr>\n",
              "      <th>118008</th>\n",
              "      <td>ff3a45ee744a7c1f8096d2e72c1a23e4</td>\n",
              "      <td>1</td>\n",
              "      <td>b61d1388a17e3f547d2bc218df02335b</td>\n",
              "      <td>bb308532dc44f5973cd2caf17d15bd8c</td>\n",
              "      <td>07017df32dc5f2f1d2801e579548d620</td>\n",
              "      <td>139.00</td>\n",
              "      <td>21.42</td>\n",
              "      <td>160.42</td>\n",
              "      <td>1.0</td>\n",
              "      <td>credit_card</td>\n",
              "      <td>...</td>\n",
              "      <td>5</td>\n",
              "      <td>NaN</td>\n",
              "      <td>delivered</td>\n",
              "      <td>2017-05-03 07:08:50</td>\n",
              "      <td>2017-05-15 10:13:46</td>\n",
              "      <td>2017-06-05 00:00:00</td>\n",
              "      <td>volta redonda</td>\n",
              "      <td>RJ</td>\n",
              "      <td>joao pessoa</td>\n",
              "      <td>PB</td>\n",
              "    </tr>\n",
              "    <tr>\n",
              "      <th>118098</th>\n",
              "      <td>ff7b636282b98e0aa524264b295ed928</td>\n",
              "      <td>1</td>\n",
              "      <td>431df35e52c10451171d8037482eeb43</td>\n",
              "      <td>eb09a9c966e7801d1ab6ccb15baa96ef</td>\n",
              "      <td>6cd68b3ed6d59aaa9fece558ad360c0a</td>\n",
              "      <td>49.90</td>\n",
              "      <td>15.11</td>\n",
              "      <td>65.01</td>\n",
              "      <td>1.0</td>\n",
              "      <td>credit_card</td>\n",
              "      <td>...</td>\n",
              "      <td>5</td>\n",
              "      <td>NaN</td>\n",
              "      <td>delivered</td>\n",
              "      <td>2018-02-17 14:46:29</td>\n",
              "      <td>2018-02-26 21:35:20</td>\n",
              "      <td>2018-03-13 00:00:00</td>\n",
              "      <td>brasilia</td>\n",
              "      <td>DF</td>\n",
              "      <td>belo horizonte</td>\n",
              "      <td>MG</td>\n",
              "    </tr>\n",
              "    <tr>\n",
              "      <th>118167</th>\n",
              "      <td>ffa5e4c604dea4f0a59d19cc2322ac19</td>\n",
              "      <td>2</td>\n",
              "      <td>bd421826916d3e1d445cb860cea3c0fb</td>\n",
              "      <td>665fe3b7ab435cda0fad0c3cbb1c51dd</td>\n",
              "      <td>59cd88080b93f3c18508673122d26169</td>\n",
              "      <td>29.99</td>\n",
              "      <td>15.10</td>\n",
              "      <td>90.18</td>\n",
              "      <td>1.0</td>\n",
              "      <td>credit_card</td>\n",
              "      <td>...</td>\n",
              "      <td>5</td>\n",
              "      <td>NaN</td>\n",
              "      <td>delivered</td>\n",
              "      <td>2017-12-04 21:45:30</td>\n",
              "      <td>2018-01-03 18:53:16</td>\n",
              "      <td>2018-01-02 00:00:00</td>\n",
              "      <td>goiania</td>\n",
              "      <td>GO</td>\n",
              "      <td>praia grande</td>\n",
              "      <td>SP</td>\n",
              "    </tr>\n",
              "  </tbody>\n",
              "</table>\n",
              "<p>1709 rows × 21 columns</p>\n",
              "</div>"
            ],
            "text/plain": [
              "                                order_id  order_item_id  \\\n",
              "126     0046e1d57f4c07c8c92ab26be8c3dfc0              1   \n",
              "128     00482f2670787292280e0a8153d82467              1   \n",
              "135     004f5d8f238e8908e6864b874eda3391              1   \n",
              "145     0057199db02d1a5ef41bacbf41f8f63b              1   \n",
              "174     006cb7cafc99b29548d4f412c7f9f493              1   \n",
              "...                                  ...            ...   \n",
              "117964  ff24fec69b7f3d30f9dc1ab3aee7c179              1   \n",
              "117991  ff3024474be86400847879103757d1fd              1   \n",
              "118008  ff3a45ee744a7c1f8096d2e72c1a23e4              1   \n",
              "118098  ff7b636282b98e0aa524264b295ed928              1   \n",
              "118167  ffa5e4c604dea4f0a59d19cc2322ac19              2   \n",
              "\n",
              "                              product_id                       customer_id  \\\n",
              "126     ff6caf9340512b8bf6d2a2a6df032cfa  ae55e228ded796581eccc67045516023   \n",
              "128     a9c404971d1a5b1cbc2e4070e02731fd  baa4ed05f22ffb6c4a41b71b699a492c   \n",
              "135     5a848e4ab52fd5445cdc07aab1c40e48  a69c820c317aa348d781a9d6732afc23   \n",
              "145     41eee23c25f7a574dfaf8d5c151dbb12  c664dc5de5b5f4184bc4ca0285b9f8fe   \n",
              "174     e10758160da97891c2fdcbc35f0f031d  97dc92f1aae3a7db8b252d1b8466910e   \n",
              "...                                  ...                               ...   \n",
              "117964  5a848e4ab52fd5445cdc07aab1c40e48  442c6e15fe1e8e63a96598607c92bc35   \n",
              "117991  f9b1795281ce51b1cf39ef6d101ae8ab  945c975073e57fe39a636afbf6689bcc   \n",
              "118008  b61d1388a17e3f547d2bc218df02335b  bb308532dc44f5973cd2caf17d15bd8c   \n",
              "118098  431df35e52c10451171d8037482eeb43  eb09a9c966e7801d1ab6ccb15baa96ef   \n",
              "118167  bd421826916d3e1d445cb860cea3c0fb  665fe3b7ab435cda0fad0c3cbb1c51dd   \n",
              "\n",
              "                               seller_id   price  freight_value  \\\n",
              "126     38e6dada03429a47197d5d584d793b41    7.79           7.78   \n",
              "128     702835e4b785b67a084280efca355756    7.60          10.96   \n",
              "135     c826c40d7b19f62a09e2d7c5e7295ee2  122.99          15.61   \n",
              "145     e5a3438891c0bfdb9394643f95273d8e   20.30          16.79   \n",
              "174     323ce52b5b81df2cd804b017b7f09aa7   56.00          14.14   \n",
              "...                                  ...     ...            ...   \n",
              "117964  c826c40d7b19f62a09e2d7c5e7295ee2  122.99          15.61   \n",
              "117991  3771c85bac139d2344864ede5d9341e3   39.90           9.94   \n",
              "118008  07017df32dc5f2f1d2801e579548d620  139.00          21.42   \n",
              "118098  6cd68b3ed6d59aaa9fece558ad360c0a   49.90          15.11   \n",
              "118167  59cd88080b93f3c18508673122d26169   29.99          15.10   \n",
              "\n",
              "        payment_value  payment_sequential payment_type  ...  review_score  \\\n",
              "126             15.57                 1.0  credit_card  ...             5   \n",
              "128             18.56                 1.0       boleto  ...             5   \n",
              "135            138.60                 1.0       boleto  ...             3   \n",
              "145             37.09                 1.0       boleto  ...             4   \n",
              "174             70.14                 1.0  credit_card  ...             5   \n",
              "...               ...                 ...          ...  ...           ...   \n",
              "117964         138.60                 1.0       boleto  ...             4   \n",
              "117991          49.84                 1.0       boleto  ...             3   \n",
              "118008         160.42                 1.0  credit_card  ...             5   \n",
              "118098          65.01                 1.0  credit_card  ...             5   \n",
              "118167          90.18                 1.0  credit_card  ...             5   \n",
              "\n",
              "        product_category_name order_status order_purchase_timestamp  \\\n",
              "126                       NaN    delivered      2017-09-26 15:24:03   \n",
              "128                       NaN    delivered      2017-02-13 16:18:07   \n",
              "135                       NaN    delivered      2018-02-27 12:16:30   \n",
              "145                       NaN    delivered      2018-01-18 17:05:30   \n",
              "174                       NaN    delivered      2018-02-17 14:22:34   \n",
              "...                       ...          ...                      ...   \n",
              "117964                    NaN    delivered      2018-01-26 14:41:14   \n",
              "117991                    NaN    delivered      2017-11-11 15:18:16   \n",
              "118008                    NaN    delivered      2017-05-03 07:08:50   \n",
              "118098                    NaN    delivered      2018-02-17 14:46:29   \n",
              "118167                    NaN    delivered      2017-12-04 21:45:30   \n",
              "\n",
              "       order_delivered_customer_date order_estimated_delivery_date  \\\n",
              "126              2017-09-29 18:29:50           2017-10-11 00:00:00   \n",
              "128              2017-02-15 11:35:56           2017-03-10 00:00:00   \n",
              "135              2018-03-23 00:52:43           2018-03-21 00:00:00   \n",
              "145              2018-02-06 20:07:20           2018-02-20 00:00:00   \n",
              "174              2018-02-25 13:46:52           2018-03-13 00:00:00   \n",
              "...                              ...                           ...   \n",
              "117964           2018-02-07 14:57:00           2018-02-22 00:00:00   \n",
              "117991           2017-11-28 18:00:22           2017-11-27 00:00:00   \n",
              "118008           2017-05-15 10:13:46           2017-06-05 00:00:00   \n",
              "118098           2018-02-26 21:35:20           2018-03-13 00:00:00   \n",
              "118167           2018-01-03 18:53:16           2018-01-02 00:00:00   \n",
              "\n",
              "         customer_city customer_state     seller_city seller_state  \n",
              "126          sao paulo             SP       sao paulo           SP  \n",
              "128       juiz de fora             MG    juiz de fora           MG  \n",
              "135            corumba             MS       guarulhos           SP  \n",
              "145              sinop             MT         limeira           SP  \n",
              "174           brasilia             DF       sao paulo           SP  \n",
              "...                ...            ...             ...          ...  \n",
              "117964  jaragua do sul             SC       guarulhos           SP  \n",
              "117991        campinas             SP        sorocaba           SP  \n",
              "118008   volta redonda             RJ     joao pessoa           PB  \n",
              "118098        brasilia             DF  belo horizonte           MG  \n",
              "118167         goiania             GO    praia grande           SP  \n",
              "\n",
              "[1709 rows x 21 columns]"
            ]
          },
          "metadata": {
            "tags": []
          },
          "execution_count": 22
        }
      ]
    },
    {
      "cell_type": "code",
      "metadata": {
        "id": "uVtZW5Q1PeyS",
        "colab_type": "code",
        "colab": {},
        "outputId": "27bbbc13-3458-486b-924b-3d5a2f749e3a"
      },
      "source": [
        ""
      ],
      "execution_count": null,
      "outputs": [
        {
          "output_type": "execute_result",
          "data": {
            "text/plain": [
              "2         2018-01-14 14:33:31\n",
              "3         2018-08-08 10:00:35\n",
              "7         2018-07-04 12:08:27\n",
              "8         2018-03-19 18:40:33\n",
              "9         2018-07-02 13:59:39\n",
              "                 ...         \n",
              "118307    2018-03-30 15:36:49\n",
              "118312    2018-06-19 09:27:48\n",
              "118313    2018-04-23 13:57:06\n",
              "118314    2018-07-14 10:26:46\n",
              "118317    2018-06-09 17:00:18\n",
              "Name: order_purchase_timestamp, Length: 63941, dtype: object"
            ]
          },
          "metadata": {
            "tags": []
          },
          "execution_count": 30
        }
      ]
    }
  ]
}